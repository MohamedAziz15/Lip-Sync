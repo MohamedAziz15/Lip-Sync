{
  "nbformat": 4,
  "nbformat_minor": 0,
  "metadata": {
    "colab": {
      "provenance": [],
      "gpuType": "T4",
      "collapsed_sections": [
        "M5QADzZcZTSG",
        "7dBczM3hZ1zC"
      ],
      "include_colab_link": true
    },
    "kernelspec": {
      "name": "python3",
      "display_name": "Python 3"
    },
    "language_info": {
      "name": "python"
    },
    "accelerator": "GPU"
  },
  "cells": [
    {
      "cell_type": "markdown",
      "metadata": {
        "id": "view-in-github",
        "colab_type": "text"
      },
      "source": [
        "<a href=\"https://colab.research.google.com/github/MohamedAziz15/Lip-Sync/blob/main/MuseTalk.ipynb\" target=\"_parent\"><img src=\"https://colab.research.google.com/assets/colab-badge.svg\" alt=\"Open In Colab\"/></a>"
      ]
    },
    {
      "cell_type": "markdown",
      "source": [
        "## Start\n",
        "- You Should run on **GPU**"
      ],
      "metadata": {
        "id": "Wx2Ht9S3yVfm"
      }
    },
    {
      "cell_type": "code",
      "source": [
        "from google.colab import drive\n",
        "drive.mount('/content/drive')"
      ],
      "metadata": {
        "colab": {
          "base_uri": "https://localhost:8080/"
        },
        "id": "MVYdmtgFAhKE",
        "outputId": "499295e1-6dcf-4db4-f28c-59eb5d6a285e"
      },
      "execution_count": 2,
      "outputs": [
        {
          "output_type": "stream",
          "name": "stdout",
          "text": [
            "Mounted at /content/drive\n"
          ]
        }
      ]
    },
    {
      "cell_type": "markdown",
      "source": [
        "## Setup for Your Drive\n",
        "- Clone Remote repo of **MuseTalk** in your Drive\n",
        "- Create Directory = **Lip-Sync**\n",
        "\n",
        "\n",
        "\n",
        "\n"
      ],
      "metadata": {
        "id": "M5QADzZcZTSG"
      }
    },
    {
      "cell_type": "code",
      "source": [
        "%cd /content/drive/MyDrive/Lip-Sync\n"
      ],
      "metadata": {
        "colab": {
          "base_uri": "https://localhost:8080/"
        },
        "id": "5NkLXLyn3wrK",
        "outputId": "8c83027e-87a1-4eb7-acac-0424273c489c"
      },
      "execution_count": null,
      "outputs": [
        {
          "output_type": "stream",
          "name": "stdout",
          "text": [
            "/content/drive/MyDrive/Lip-Sync\n"
          ]
        }
      ]
    },
    {
      "cell_type": "code",
      "execution_count": null,
      "metadata": {
        "colab": {
          "base_uri": "https://localhost:8080/"
        },
        "id": "CERmpnNqpUGU",
        "outputId": "f0b24bed-b080-4c43-ef50-5abc531fc90e"
      },
      "outputs": [
        {
          "output_type": "stream",
          "name": "stdout",
          "text": [
            "Cloning into 'MuseTalk'...\n",
            "remote: Enumerating objects: 255, done.\u001b[K\n",
            "remote: Counting objects: 100% (92/92), done.\u001b[K\n",
            "remote: Compressing objects: 100% (48/48), done.\u001b[K\n",
            "remote: Total 255 (delta 60), reused 46 (delta 44), pack-reused 163\u001b[K\n",
            "Receiving objects: 100% (255/255), 23.91 MiB | 13.96 MiB/s, done.\n",
            "Resolving deltas: 100% (78/78), done.\n"
          ]
        }
      ],
      "source": [
        "!git clone https://github.com/TMElyralab/MuseTalk.git"
      ]
    },
    {
      "cell_type": "markdown",
      "source": [
        "### Download weights\n",
        "You can copy directory (\"/content/drive/MyDrive/Lip-Sync/MuseTalk/musetalk/models\") to your drive in the same path to work\n",
        "  \n",
        "  **OR**\n",
        "\n",
        "You can download weights manually as follows:\n",
        "\n",
        "1. Download our trained [weights](https://huggingface.co/TMElyralab/MuseTalk).\n",
        "\n",
        "2. Download the weights of other components:\n",
        "   - [sd-vae-ft-mse](https://huggingface.co/stabilityai/sd-vae-ft-mse)\n",
        "   - [whisper](https://openaipublic.azureedge.net/main/whisper/models/65147644a518d12f04e32d6f3b26facc3f8dd46e5390956a9424a650c0ce22b9/tiny.pt)\n",
        "   - [dwpose](https://huggingface.co/yzd-v/DWPose/tree/main)\n",
        "   - [face-parse-bisent](https://github.com/zllrunning/face-parsing.PyTorch)\n",
        "   - [resnet18](https://download.pytorch.org/models/resnet18-5c106cde.pth)\n",
        "\n",
        "\n",
        "Finally, these weights should be organized in `models` as follows:\n",
        "```\n",
        "./models/\n",
        "├── musetalk\n",
        "│   └── musetalk.json\n",
        "│   └── pytorch_model.bin\n",
        "├── dwpose\n",
        "│   └── dw-ll_ucoco_384.pth\n",
        "├── face-parse-bisent\n",
        "│   ├── 79999_iter.pth\n",
        "│   └── resnet18-5c106cde.pth\n",
        "├── sd-vae-ft-mse\n",
        "│   ├── config.json\n",
        "│   └── diffusion_pytorch_model.bin\n",
        "└── whisper\n",
        "    └── tiny.pt\n",
        "```"
      ],
      "metadata": {
        "id": "kTCq4ndrkh8c"
      }
    },
    {
      "cell_type": "markdown",
      "source": [
        "## Install Dependcies"
      ],
      "metadata": {
        "id": "_H3sz4uUZwpb"
      }
    },
    {
      "cell_type": "code",
      "source": [
        "pip install -r /content/drive/MyDrive/Lip-Sync/MuseTalk/requirements.txt"
      ],
      "metadata": {
        "colab": {
          "base_uri": "https://localhost:8080/",
          "height": 1000
        },
        "id": "7vT1RpmQpZc7",
        "outputId": "27e138b8-23bd-4a4e-bd0a-8dee7b53970e"
      },
      "execution_count": 3,
      "outputs": [
        {
          "output_type": "stream",
          "name": "stdout",
          "text": [
            "Looking in indexes: https://pypi.org/simple, https://download.pytorch.org/whl/cu118\n",
            "Collecting torch==2.0.1 (from -r /content/drive/MyDrive/Lip-Sync/MuseTalk/requirements.txt (line 2))\n",
            "  Downloading https://download.pytorch.org/whl/cu118/torch-2.0.1%2Bcu118-cp310-cp310-linux_x86_64.whl (2267.3 MB)\n",
            "\u001b[2K     \u001b[90m━━━━━━━━━━━━━━━━━━━━━━━━━━━━━━━━━━━━━━━━\u001b[0m \u001b[32m2.3/2.3 GB\u001b[0m \u001b[31m447.0 kB/s\u001b[0m eta \u001b[36m0:00:00\u001b[0m\n",
            "\u001b[?25hCollecting torchvision==0.15.2 (from -r /content/drive/MyDrive/Lip-Sync/MuseTalk/requirements.txt (line 3))\n",
            "  Downloading https://download.pytorch.org/whl/cu118/torchvision-0.15.2%2Bcu118-cp310-cp310-linux_x86_64.whl (6.1 MB)\n",
            "\u001b[2K     \u001b[90m━━━━━━━━━━━━━━━━━━━━━━━━━━━━━━━━━━━━━━━━\u001b[0m \u001b[32m6.1/6.1 MB\u001b[0m \u001b[31m93.2 MB/s\u001b[0m eta \u001b[36m0:00:00\u001b[0m\n",
            "\u001b[?25hCollecting torchaudio==2.0.2 (from -r /content/drive/MyDrive/Lip-Sync/MuseTalk/requirements.txt (line 4))\n",
            "  Downloading https://download.pytorch.org/whl/cu118/torchaudio-2.0.2%2Bcu118-cp310-cp310-linux_x86_64.whl (4.4 MB)\n",
            "\u001b[2K     \u001b[90m━━━━━━━━━━━━━━━━━━━━━━━━━━━━━━━━━━━━━━━━\u001b[0m \u001b[32m4.4/4.4 MB\u001b[0m \u001b[31m94.1 MB/s\u001b[0m eta \u001b[36m0:00:00\u001b[0m\n",
            "\u001b[?25hCollecting diffusers==0.27.2 (from -r /content/drive/MyDrive/Lip-Sync/MuseTalk/requirements.txt (line 5))\n",
            "  Downloading diffusers-0.27.2-py3-none-any.whl (2.0 MB)\n",
            "\u001b[2K     \u001b[90m━━━━━━━━━━━━━━━━━━━━━━━━━━━━━━━━━━━━━━━━\u001b[0m \u001b[32m2.0/2.0 MB\u001b[0m \u001b[31m33.0 MB/s\u001b[0m eta \u001b[36m0:00:00\u001b[0m\n",
            "\u001b[?25hCollecting accelerate==0.28.0 (from -r /content/drive/MyDrive/Lip-Sync/MuseTalk/requirements.txt (line 6))\n",
            "  Downloading accelerate-0.28.0-py3-none-any.whl (290 kB)\n",
            "\u001b[2K     \u001b[90m━━━━━━━━━━━━━━━━━━━━━━━━━━━━━━━━━━━━━━━━\u001b[0m \u001b[32m290.1/290.1 kB\u001b[0m \u001b[31m29.7 MB/s\u001b[0m eta \u001b[36m0:00:00\u001b[0m\n",
            "\u001b[?25hCollecting tensorflow==2.12.0 (from -r /content/drive/MyDrive/Lip-Sync/MuseTalk/requirements.txt (line 7))\n",
            "  Downloading tensorflow-2.12.0-cp310-cp310-manylinux_2_17_x86_64.manylinux2014_x86_64.whl (585.9 MB)\n",
            "\u001b[2K     \u001b[90m━━━━━━━━━━━━━━━━━━━━━━━━━━━━━━━━━━━━━━━━\u001b[0m \u001b[32m585.9/585.9 MB\u001b[0m \u001b[31m1.5 MB/s\u001b[0m eta \u001b[36m0:00:00\u001b[0m\n",
            "\u001b[?25hCollecting tensorboard==2.12.0 (from -r /content/drive/MyDrive/Lip-Sync/MuseTalk/requirements.txt (line 8))\n",
            "  Downloading tensorboard-2.12.0-py3-none-any.whl (5.6 MB)\n",
            "\u001b[2K     \u001b[90m━━━━━━━━━━━━━━━━━━━━━━━━━━━━━━━━━━━━━━━━\u001b[0m \u001b[32m5.6/5.6 MB\u001b[0m \u001b[31m71.2 MB/s\u001b[0m eta \u001b[36m0:00:00\u001b[0m\n",
            "\u001b[?25hCollecting opencv-python==4.9.0.80 (from -r /content/drive/MyDrive/Lip-Sync/MuseTalk/requirements.txt (line 9))\n",
            "  Downloading opencv_python-4.9.0.80-cp37-abi3-manylinux_2_17_x86_64.manylinux2014_x86_64.whl (62.2 MB)\n",
            "\u001b[2K     \u001b[90m━━━━━━━━━━━━━━━━━━━━━━━━━━━━━━━━━━━━━━━━\u001b[0m \u001b[32m62.2/62.2 MB\u001b[0m \u001b[31m10.2 MB/s\u001b[0m eta \u001b[36m0:00:00\u001b[0m\n",
            "\u001b[?25hRequirement already satisfied: soundfile==0.12.1 in /usr/local/lib/python3.10/dist-packages (from -r /content/drive/MyDrive/Lip-Sync/MuseTalk/requirements.txt (line 10)) (0.12.1)\n",
            "Collecting transformers==4.39.2 (from -r /content/drive/MyDrive/Lip-Sync/MuseTalk/requirements.txt (line 11))\n",
            "  Downloading transformers-4.39.2-py3-none-any.whl (8.8 MB)\n",
            "\u001b[2K     \u001b[90m━━━━━━━━━━━━━━━━━━━━━━━━━━━━━━━━━━━━━━━━\u001b[0m \u001b[32m8.8/8.8 MB\u001b[0m \u001b[31m104.0 MB/s\u001b[0m eta \u001b[36m0:00:00\u001b[0m\n",
            "\u001b[?25hRequirement already satisfied: gdown in /usr/local/lib/python3.10/dist-packages (from -r /content/drive/MyDrive/Lip-Sync/MuseTalk/requirements.txt (line 13)) (5.1.0)\n",
            "Requirement already satisfied: requests in /usr/local/lib/python3.10/dist-packages (from -r /content/drive/MyDrive/Lip-Sync/MuseTalk/requirements.txt (line 14)) (2.31.0)\n",
            "Requirement already satisfied: imageio[ffmpeg] in /usr/local/lib/python3.10/dist-packages (from -r /content/drive/MyDrive/Lip-Sync/MuseTalk/requirements.txt (line 15)) (2.31.6)\n",
            "Collecting omegaconf (from -r /content/drive/MyDrive/Lip-Sync/MuseTalk/requirements.txt (line 17))\n",
            "  Downloading omegaconf-2.3.0-py3-none-any.whl (79 kB)\n",
            "\u001b[2K     \u001b[90m━━━━━━━━━━━━━━━━━━━━━━━━━━━━━━━━━━━━━━━━\u001b[0m \u001b[32m79.5/79.5 kB\u001b[0m \u001b[31m13.8 MB/s\u001b[0m eta \u001b[36m0:00:00\u001b[0m\n",
            "\u001b[?25hCollecting ffmpeg-python (from -r /content/drive/MyDrive/Lip-Sync/MuseTalk/requirements.txt (line 18))\n",
            "  Downloading ffmpeg_python-0.2.0-py3-none-any.whl (25 kB)\n",
            "Collecting gradio (from -r /content/drive/MyDrive/Lip-Sync/MuseTalk/requirements.txt (line 19))\n",
            "  Downloading gradio-4.39.0-py3-none-any.whl (12.4 MB)\n",
            "\u001b[2K     \u001b[90m━━━━━━━━━━━━━━━━━━━━━━━━━━━━━━━━━━━━━━━━\u001b[0m \u001b[32m12.4/12.4 MB\u001b[0m \u001b[31m75.4 MB/s\u001b[0m eta \u001b[36m0:00:00\u001b[0m\n",
            "\u001b[?25hCollecting spaces (from -r /content/drive/MyDrive/Lip-Sync/MuseTalk/requirements.txt (line 20))\n",
            "  Downloading spaces-0.28.3-py3-none-any.whl (18 kB)\n",
            "Requirement already satisfied: moviepy in /usr/local/lib/python3.10/dist-packages (from -r /content/drive/MyDrive/Lip-Sync/MuseTalk/requirements.txt (line 21)) (1.0.3)\n",
            "Requirement already satisfied: filelock in /usr/local/lib/python3.10/dist-packages (from torch==2.0.1->-r /content/drive/MyDrive/Lip-Sync/MuseTalk/requirements.txt (line 2)) (3.15.4)\n",
            "Requirement already satisfied: typing-extensions in /usr/local/lib/python3.10/dist-packages (from torch==2.0.1->-r /content/drive/MyDrive/Lip-Sync/MuseTalk/requirements.txt (line 2)) (4.12.2)\n",
            "Requirement already satisfied: sympy in /usr/local/lib/python3.10/dist-packages (from torch==2.0.1->-r /content/drive/MyDrive/Lip-Sync/MuseTalk/requirements.txt (line 2)) (1.13.0)\n",
            "Requirement already satisfied: networkx in /usr/local/lib/python3.10/dist-packages (from torch==2.0.1->-r /content/drive/MyDrive/Lip-Sync/MuseTalk/requirements.txt (line 2)) (3.3)\n",
            "Requirement already satisfied: jinja2 in /usr/local/lib/python3.10/dist-packages (from torch==2.0.1->-r /content/drive/MyDrive/Lip-Sync/MuseTalk/requirements.txt (line 2)) (3.1.4)\n",
            "Collecting triton==2.0.0 (from torch==2.0.1->-r /content/drive/MyDrive/Lip-Sync/MuseTalk/requirements.txt (line 2))\n",
            "  Downloading https://download.pytorch.org/whl/triton-2.0.0-1-cp310-cp310-manylinux2014_x86_64.manylinux_2_17_x86_64.whl (63.3 MB)\n",
            "\u001b[2K     \u001b[90m━━━━━━━━━━━━━━━━━━━━━━━━━━━━━━━━━━━━━━━━\u001b[0m \u001b[32m63.3/63.3 MB\u001b[0m \u001b[31m9.1 MB/s\u001b[0m eta \u001b[36m0:00:00\u001b[0m\n",
            "\u001b[?25hRequirement already satisfied: numpy in /usr/local/lib/python3.10/dist-packages (from torchvision==0.15.2->-r /content/drive/MyDrive/Lip-Sync/MuseTalk/requirements.txt (line 3)) (1.25.2)\n",
            "Requirement already satisfied: pillow!=8.3.*,>=5.3.0 in /usr/local/lib/python3.10/dist-packages (from torchvision==0.15.2->-r /content/drive/MyDrive/Lip-Sync/MuseTalk/requirements.txt (line 3)) (9.4.0)\n",
            "Requirement already satisfied: importlib-metadata in /usr/local/lib/python3.10/dist-packages (from diffusers==0.27.2->-r /content/drive/MyDrive/Lip-Sync/MuseTalk/requirements.txt (line 5)) (8.0.0)\n",
            "Requirement already satisfied: huggingface-hub>=0.20.2 in /usr/local/lib/python3.10/dist-packages (from diffusers==0.27.2->-r /content/drive/MyDrive/Lip-Sync/MuseTalk/requirements.txt (line 5)) (0.23.5)\n",
            "Requirement already satisfied: regex!=2019.12.17 in /usr/local/lib/python3.10/dist-packages (from diffusers==0.27.2->-r /content/drive/MyDrive/Lip-Sync/MuseTalk/requirements.txt (line 5)) (2024.5.15)\n",
            "Requirement already satisfied: safetensors>=0.3.1 in /usr/local/lib/python3.10/dist-packages (from diffusers==0.27.2->-r /content/drive/MyDrive/Lip-Sync/MuseTalk/requirements.txt (line 5)) (0.4.3)\n",
            "Requirement already satisfied: packaging>=20.0 in /usr/local/lib/python3.10/dist-packages (from accelerate==0.28.0->-r /content/drive/MyDrive/Lip-Sync/MuseTalk/requirements.txt (line 6)) (24.1)\n",
            "Requirement already satisfied: psutil in /usr/local/lib/python3.10/dist-packages (from accelerate==0.28.0->-r /content/drive/MyDrive/Lip-Sync/MuseTalk/requirements.txt (line 6)) (5.9.5)\n",
            "Requirement already satisfied: pyyaml in /usr/local/lib/python3.10/dist-packages (from accelerate==0.28.0->-r /content/drive/MyDrive/Lip-Sync/MuseTalk/requirements.txt (line 6)) (6.0.1)\n",
            "Requirement already satisfied: absl-py>=1.0.0 in /usr/local/lib/python3.10/dist-packages (from tensorflow==2.12.0->-r /content/drive/MyDrive/Lip-Sync/MuseTalk/requirements.txt (line 7)) (1.4.0)\n",
            "Requirement already satisfied: astunparse>=1.6.0 in /usr/local/lib/python3.10/dist-packages (from tensorflow==2.12.0->-r /content/drive/MyDrive/Lip-Sync/MuseTalk/requirements.txt (line 7)) (1.6.3)\n",
            "Requirement already satisfied: flatbuffers>=2.0 in /usr/local/lib/python3.10/dist-packages (from tensorflow==2.12.0->-r /content/drive/MyDrive/Lip-Sync/MuseTalk/requirements.txt (line 7)) (24.3.25)\n",
            "Collecting gast<=0.4.0,>=0.2.1 (from tensorflow==2.12.0->-r /content/drive/MyDrive/Lip-Sync/MuseTalk/requirements.txt (line 7))\n",
            "  Downloading gast-0.4.0-py3-none-any.whl (9.8 kB)\n",
            "Requirement already satisfied: google-pasta>=0.1.1 in /usr/local/lib/python3.10/dist-packages (from tensorflow==2.12.0->-r /content/drive/MyDrive/Lip-Sync/MuseTalk/requirements.txt (line 7)) (0.2.0)\n",
            "Requirement already satisfied: grpcio<2.0,>=1.24.3 in /usr/local/lib/python3.10/dist-packages (from tensorflow==2.12.0->-r /content/drive/MyDrive/Lip-Sync/MuseTalk/requirements.txt (line 7)) (1.64.1)\n",
            "Requirement already satisfied: h5py>=2.9.0 in /usr/local/lib/python3.10/dist-packages (from tensorflow==2.12.0->-r /content/drive/MyDrive/Lip-Sync/MuseTalk/requirements.txt (line 7)) (3.9.0)\n",
            "Requirement already satisfied: jax>=0.3.15 in /usr/local/lib/python3.10/dist-packages (from tensorflow==2.12.0->-r /content/drive/MyDrive/Lip-Sync/MuseTalk/requirements.txt (line 7)) (0.4.26)\n",
            "Collecting keras<2.13,>=2.12.0 (from tensorflow==2.12.0->-r /content/drive/MyDrive/Lip-Sync/MuseTalk/requirements.txt (line 7))\n",
            "  Downloading keras-2.12.0-py2.py3-none-any.whl (1.7 MB)\n",
            "\u001b[2K     \u001b[90m━━━━━━━━━━━━━━━━━━━━━━━━━━━━━━━━━━━━━━━━\u001b[0m \u001b[32m1.7/1.7 MB\u001b[0m \u001b[31m92.0 MB/s\u001b[0m eta \u001b[36m0:00:00\u001b[0m\n",
            "\u001b[?25hRequirement already satisfied: libclang>=13.0.0 in /usr/local/lib/python3.10/dist-packages (from tensorflow==2.12.0->-r /content/drive/MyDrive/Lip-Sync/MuseTalk/requirements.txt (line 7)) (18.1.1)\n",
            "Collecting numpy (from torchvision==0.15.2->-r /content/drive/MyDrive/Lip-Sync/MuseTalk/requirements.txt (line 3))\n",
            "  Downloading numpy-1.23.5-cp310-cp310-manylinux_2_17_x86_64.manylinux2014_x86_64.whl (17.1 MB)\n",
            "\u001b[2K     \u001b[90m━━━━━━━━━━━━━━━━━━━━━━━━━━━━━━━━━━━━━━━━\u001b[0m \u001b[32m17.1/17.1 MB\u001b[0m \u001b[31m25.6 MB/s\u001b[0m eta \u001b[36m0:00:00\u001b[0m\n",
            "\u001b[?25hRequirement already satisfied: opt-einsum>=2.3.2 in /usr/local/lib/python3.10/dist-packages (from tensorflow==2.12.0->-r /content/drive/MyDrive/Lip-Sync/MuseTalk/requirements.txt (line 7)) (3.3.0)\n",
            "Requirement already satisfied: protobuf!=4.21.0,!=4.21.1,!=4.21.2,!=4.21.3,!=4.21.4,!=4.21.5,<5.0.0dev,>=3.20.3 in /usr/local/lib/python3.10/dist-packages (from tensorflow==2.12.0->-r /content/drive/MyDrive/Lip-Sync/MuseTalk/requirements.txt (line 7)) (3.20.3)\n",
            "Requirement already satisfied: setuptools in /usr/local/lib/python3.10/dist-packages (from tensorflow==2.12.0->-r /content/drive/MyDrive/Lip-Sync/MuseTalk/requirements.txt (line 7)) (67.7.2)\n",
            "Requirement already satisfied: six>=1.12.0 in /usr/local/lib/python3.10/dist-packages (from tensorflow==2.12.0->-r /content/drive/MyDrive/Lip-Sync/MuseTalk/requirements.txt (line 7)) (1.16.0)\n",
            "Collecting tensorflow-estimator<2.13,>=2.12.0 (from tensorflow==2.12.0->-r /content/drive/MyDrive/Lip-Sync/MuseTalk/requirements.txt (line 7))\n",
            "  Downloading tensorflow_estimator-2.12.0-py2.py3-none-any.whl (440 kB)\n",
            "\u001b[2K     \u001b[90m━━━━━━━━━━━━━━━━━━━━━━━━━━━━━━━━━━━━━━━━\u001b[0m \u001b[32m440.7/440.7 kB\u001b[0m \u001b[31m50.3 MB/s\u001b[0m eta \u001b[36m0:00:00\u001b[0m\n",
            "\u001b[?25hRequirement already satisfied: termcolor>=1.1.0 in /usr/local/lib/python3.10/dist-packages (from tensorflow==2.12.0->-r /content/drive/MyDrive/Lip-Sync/MuseTalk/requirements.txt (line 7)) (2.4.0)\n",
            "Requirement already satisfied: wrapt<1.15,>=1.11.0 in /usr/local/lib/python3.10/dist-packages (from tensorflow==2.12.0->-r /content/drive/MyDrive/Lip-Sync/MuseTalk/requirements.txt (line 7)) (1.14.1)\n",
            "Requirement already satisfied: tensorflow-io-gcs-filesystem>=0.23.1 in /usr/local/lib/python3.10/dist-packages (from tensorflow==2.12.0->-r /content/drive/MyDrive/Lip-Sync/MuseTalk/requirements.txt (line 7)) (0.37.1)\n",
            "Requirement already satisfied: google-auth<3,>=1.6.3 in /usr/local/lib/python3.10/dist-packages (from tensorboard==2.12.0->-r /content/drive/MyDrive/Lip-Sync/MuseTalk/requirements.txt (line 8)) (2.27.0)\n",
            "Collecting google-auth-oauthlib<0.5,>=0.4.1 (from tensorboard==2.12.0->-r /content/drive/MyDrive/Lip-Sync/MuseTalk/requirements.txt (line 8))\n",
            "  Downloading google_auth_oauthlib-0.4.6-py2.py3-none-any.whl (18 kB)\n",
            "Requirement already satisfied: markdown>=2.6.8 in /usr/local/lib/python3.10/dist-packages (from tensorboard==2.12.0->-r /content/drive/MyDrive/Lip-Sync/MuseTalk/requirements.txt (line 8)) (3.6)\n",
            "Requirement already satisfied: tensorboard-data-server<0.8.0,>=0.7.0 in /usr/local/lib/python3.10/dist-packages (from tensorboard==2.12.0->-r /content/drive/MyDrive/Lip-Sync/MuseTalk/requirements.txt (line 8)) (0.7.2)\n",
            "Collecting tensorboard-plugin-wit>=1.6.0 (from tensorboard==2.12.0->-r /content/drive/MyDrive/Lip-Sync/MuseTalk/requirements.txt (line 8))\n",
            "  Downloading tensorboard_plugin_wit-1.8.1-py3-none-any.whl (781 kB)\n",
            "\u001b[2K     \u001b[90m━━━━━━━━━━━━━━━━━━━━━━━━━━━━━━━━━━━━━━━━\u001b[0m \u001b[32m781.3/781.3 kB\u001b[0m \u001b[31m65.1 MB/s\u001b[0m eta \u001b[36m0:00:00\u001b[0m\n",
            "\u001b[?25hRequirement already satisfied: werkzeug>=1.0.1 in /usr/local/lib/python3.10/dist-packages (from tensorboard==2.12.0->-r /content/drive/MyDrive/Lip-Sync/MuseTalk/requirements.txt (line 8)) (3.0.3)\n",
            "Requirement already satisfied: wheel>=0.26 in /usr/local/lib/python3.10/dist-packages (from tensorboard==2.12.0->-r /content/drive/MyDrive/Lip-Sync/MuseTalk/requirements.txt (line 8)) (0.43.0)\n",
            "Requirement already satisfied: cffi>=1.0 in /usr/local/lib/python3.10/dist-packages (from soundfile==0.12.1->-r /content/drive/MyDrive/Lip-Sync/MuseTalk/requirements.txt (line 10)) (1.16.0)\n",
            "Collecting tokenizers<0.19,>=0.14 (from transformers==4.39.2->-r /content/drive/MyDrive/Lip-Sync/MuseTalk/requirements.txt (line 11))\n",
            "  Downloading tokenizers-0.15.2-cp310-cp310-manylinux_2_17_x86_64.manylinux2014_x86_64.whl (3.6 MB)\n",
            "\u001b[2K     \u001b[90m━━━━━━━━━━━━━━━━━━━━━━━━━━━━━━━━━━━━━━━━\u001b[0m \u001b[32m3.6/3.6 MB\u001b[0m \u001b[31m39.1 MB/s\u001b[0m eta \u001b[36m0:00:00\u001b[0m\n",
            "\u001b[?25hRequirement already satisfied: tqdm>=4.27 in /usr/local/lib/python3.10/dist-packages (from transformers==4.39.2->-r /content/drive/MyDrive/Lip-Sync/MuseTalk/requirements.txt (line 11)) (4.66.4)\n",
            "Requirement already satisfied: cmake in /usr/local/lib/python3.10/dist-packages (from triton==2.0.0->torch==2.0.1->-r /content/drive/MyDrive/Lip-Sync/MuseTalk/requirements.txt (line 2)) (3.27.9)\n",
            "Collecting lit (from triton==2.0.0->torch==2.0.1->-r /content/drive/MyDrive/Lip-Sync/MuseTalk/requirements.txt (line 2))\n",
            "  Downloading lit-18.1.8-py3-none-any.whl (96 kB)\n",
            "\u001b[2K     \u001b[90m━━━━━━━━━━━━━━━━━━━━━━━━━━━━━━━━━━━━━━━━\u001b[0m \u001b[32m96.4/96.4 kB\u001b[0m \u001b[31m16.8 MB/s\u001b[0m eta \u001b[36m0:00:00\u001b[0m\n",
            "\u001b[?25hRequirement already satisfied: beautifulsoup4 in /usr/local/lib/python3.10/dist-packages (from gdown->-r /content/drive/MyDrive/Lip-Sync/MuseTalk/requirements.txt (line 13)) (4.12.3)\n",
            "Requirement already satisfied: charset-normalizer<4,>=2 in /usr/local/lib/python3.10/dist-packages (from requests->-r /content/drive/MyDrive/Lip-Sync/MuseTalk/requirements.txt (line 14)) (3.3.2)\n",
            "Requirement already satisfied: idna<4,>=2.5 in /usr/local/lib/python3.10/dist-packages (from requests->-r /content/drive/MyDrive/Lip-Sync/MuseTalk/requirements.txt (line 14)) (3.7)\n",
            "Requirement already satisfied: urllib3<3,>=1.21.1 in /usr/local/lib/python3.10/dist-packages (from requests->-r /content/drive/MyDrive/Lip-Sync/MuseTalk/requirements.txt (line 14)) (2.0.7)\n",
            "Requirement already satisfied: certifi>=2017.4.17 in /usr/local/lib/python3.10/dist-packages (from requests->-r /content/drive/MyDrive/Lip-Sync/MuseTalk/requirements.txt (line 14)) (2024.7.4)\n",
            "Requirement already satisfied: imageio-ffmpeg in /usr/local/lib/python3.10/dist-packages (from imageio[ffmpeg]->-r /content/drive/MyDrive/Lip-Sync/MuseTalk/requirements.txt (line 15)) (0.5.1)\n",
            "Collecting antlr4-python3-runtime==4.9.* (from omegaconf->-r /content/drive/MyDrive/Lip-Sync/MuseTalk/requirements.txt (line 17))\n",
            "  Downloading antlr4-python3-runtime-4.9.3.tar.gz (117 kB)\n",
            "\u001b[2K     \u001b[90m━━━━━━━━━━━━━━━━━━━━━━━━━━━━━━━━━━━━━━━━\u001b[0m \u001b[32m117.0/117.0 kB\u001b[0m \u001b[31m18.0 MB/s\u001b[0m eta \u001b[36m0:00:00\u001b[0m\n",
            "\u001b[?25h  Preparing metadata (setup.py) ... \u001b[?25l\u001b[?25hdone\n",
            "Requirement already satisfied: future in /usr/local/lib/python3.10/dist-packages (from ffmpeg-python->-r /content/drive/MyDrive/Lip-Sync/MuseTalk/requirements.txt (line 18)) (0.18.3)\n",
            "Collecting aiofiles<24.0,>=22.0 (from gradio->-r /content/drive/MyDrive/Lip-Sync/MuseTalk/requirements.txt (line 19))\n",
            "  Downloading aiofiles-23.2.1-py3-none-any.whl (15 kB)\n",
            "Requirement already satisfied: anyio<5.0,>=3.0 in /usr/local/lib/python3.10/dist-packages (from gradio->-r /content/drive/MyDrive/Lip-Sync/MuseTalk/requirements.txt (line 19)) (3.7.1)\n",
            "Collecting fastapi (from gradio->-r /content/drive/MyDrive/Lip-Sync/MuseTalk/requirements.txt (line 19))\n",
            "  Downloading fastapi-0.111.1-py3-none-any.whl (92 kB)\n",
            "\u001b[2K     \u001b[90m━━━━━━━━━━━━━━━━━━━━━━━━━━━━━━━━━━━━━━━━\u001b[0m \u001b[32m92.2/92.2 kB\u001b[0m \u001b[31m15.0 MB/s\u001b[0m eta \u001b[36m0:00:00\u001b[0m\n",
            "\u001b[?25hCollecting ffmpy (from gradio->-r /content/drive/MyDrive/Lip-Sync/MuseTalk/requirements.txt (line 19))\n",
            "  Downloading ffmpy-0.3.2.tar.gz (5.5 kB)\n",
            "  Preparing metadata (setup.py) ... \u001b[?25l\u001b[?25hdone\n",
            "Collecting gradio-client==1.1.1 (from gradio->-r /content/drive/MyDrive/Lip-Sync/MuseTalk/requirements.txt (line 19))\n",
            "  Downloading gradio_client-1.1.1-py3-none-any.whl (318 kB)\n",
            "\u001b[2K     \u001b[90m━━━━━━━━━━━━━━━━━━━━━━━━━━━━━━━━━━━━━━━━\u001b[0m \u001b[32m318.2/318.2 kB\u001b[0m \u001b[31m40.3 MB/s\u001b[0m eta \u001b[36m0:00:00\u001b[0m\n",
            "\u001b[?25hCollecting httpx>=0.24.1 (from gradio->-r /content/drive/MyDrive/Lip-Sync/MuseTalk/requirements.txt (line 19))\n",
            "  Downloading httpx-0.27.0-py3-none-any.whl (75 kB)\n",
            "\u001b[2K     \u001b[90m━━━━━━━━━━━━━━━━━━━━━━━━━━━━━━━━━━━━━━━━\u001b[0m \u001b[32m75.6/75.6 kB\u001b[0m \u001b[31m10.5 MB/s\u001b[0m eta \u001b[36m0:00:00\u001b[0m\n",
            "\u001b[?25hRequirement already satisfied: importlib-resources<7.0,>=1.3 in /usr/local/lib/python3.10/dist-packages (from gradio->-r /content/drive/MyDrive/Lip-Sync/MuseTalk/requirements.txt (line 19)) (6.4.0)\n",
            "Requirement already satisfied: markupsafe~=2.0 in /usr/local/lib/python3.10/dist-packages (from gradio->-r /content/drive/MyDrive/Lip-Sync/MuseTalk/requirements.txt (line 19)) (2.1.5)\n",
            "Requirement already satisfied: matplotlib~=3.0 in /usr/local/lib/python3.10/dist-packages (from gradio->-r /content/drive/MyDrive/Lip-Sync/MuseTalk/requirements.txt (line 19)) (3.7.1)\n",
            "Collecting orjson~=3.0 (from gradio->-r /content/drive/MyDrive/Lip-Sync/MuseTalk/requirements.txt (line 19))\n",
            "  Downloading orjson-3.10.6-cp310-cp310-manylinux_2_17_x86_64.manylinux2014_x86_64.whl (141 kB)\n",
            "\u001b[2K     \u001b[90m━━━━━━━━━━━━━━━━━━━━━━━━━━━━━━━━━━━━━━━━\u001b[0m \u001b[32m141.1/141.1 kB\u001b[0m \u001b[31m19.8 MB/s\u001b[0m eta \u001b[36m0:00:00\u001b[0m\n",
            "\u001b[?25hRequirement already satisfied: pandas<3.0,>=1.0 in /usr/local/lib/python3.10/dist-packages (from gradio->-r /content/drive/MyDrive/Lip-Sync/MuseTalk/requirements.txt (line 19)) (2.0.3)\n",
            "Requirement already satisfied: pydantic>=2.0 in /usr/local/lib/python3.10/dist-packages (from gradio->-r /content/drive/MyDrive/Lip-Sync/MuseTalk/requirements.txt (line 19)) (2.8.2)\n",
            "Collecting pydub (from gradio->-r /content/drive/MyDrive/Lip-Sync/MuseTalk/requirements.txt (line 19))\n",
            "  Downloading pydub-0.25.1-py2.py3-none-any.whl (32 kB)\n",
            "Collecting python-multipart>=0.0.9 (from gradio->-r /content/drive/MyDrive/Lip-Sync/MuseTalk/requirements.txt (line 19))\n",
            "  Downloading python_multipart-0.0.9-py3-none-any.whl (22 kB)\n",
            "Collecting ruff>=0.2.2 (from gradio->-r /content/drive/MyDrive/Lip-Sync/MuseTalk/requirements.txt (line 19))\n",
            "  Downloading ruff-0.5.4-py3-none-manylinux_2_17_x86_64.manylinux2014_x86_64.whl (10.1 MB)\n",
            "\u001b[2K     \u001b[90m━━━━━━━━━━━━━━━━━━━━━━━━━━━━━━━━━━━━━━━━\u001b[0m \u001b[32m10.1/10.1 MB\u001b[0m \u001b[31m96.5 MB/s\u001b[0m eta \u001b[36m0:00:00\u001b[0m\n",
            "\u001b[?25hCollecting semantic-version~=2.0 (from gradio->-r /content/drive/MyDrive/Lip-Sync/MuseTalk/requirements.txt (line 19))\n",
            "  Downloading semantic_version-2.10.0-py2.py3-none-any.whl (15 kB)\n",
            "Collecting tomlkit==0.12.0 (from gradio->-r /content/drive/MyDrive/Lip-Sync/MuseTalk/requirements.txt (line 19))\n",
            "  Downloading tomlkit-0.12.0-py3-none-any.whl (37 kB)\n",
            "Requirement already satisfied: typer<1.0,>=0.12 in /usr/local/lib/python3.10/dist-packages (from gradio->-r /content/drive/MyDrive/Lip-Sync/MuseTalk/requirements.txt (line 19)) (0.12.3)\n",
            "Collecting uvicorn>=0.14.0 (from gradio->-r /content/drive/MyDrive/Lip-Sync/MuseTalk/requirements.txt (line 19))\n",
            "  Downloading uvicorn-0.30.3-py3-none-any.whl (62 kB)\n",
            "\u001b[2K     \u001b[90m━━━━━━━━━━━━━━━━━━━━━━━━━━━━━━━━━━━━━━━━\u001b[0m \u001b[32m62.8/62.8 kB\u001b[0m \u001b[31m9.5 MB/s\u001b[0m eta \u001b[36m0:00:00\u001b[0m\n",
            "\u001b[?25hRequirement already satisfied: fsspec in /usr/local/lib/python3.10/dist-packages (from gradio-client==1.1.1->gradio->-r /content/drive/MyDrive/Lip-Sync/MuseTalk/requirements.txt (line 19)) (2023.6.0)\n",
            "Collecting websockets<12.0,>=10.0 (from gradio-client==1.1.1->gradio->-r /content/drive/MyDrive/Lip-Sync/MuseTalk/requirements.txt (line 19))\n",
            "  Downloading websockets-11.0.3-cp310-cp310-manylinux_2_5_x86_64.manylinux1_x86_64.manylinux_2_17_x86_64.manylinux2014_x86_64.whl (129 kB)\n",
            "\u001b[2K     \u001b[90m━━━━━━━━━━━━━━━━━━━━━━━━━━━━━━━━━━━━━━━━\u001b[0m \u001b[32m129.9/129.9 kB\u001b[0m \u001b[31m22.2 MB/s\u001b[0m eta \u001b[36m0:00:00\u001b[0m\n",
            "\u001b[?25hRequirement already satisfied: decorator<5.0,>=4.0.2 in /usr/local/lib/python3.10/dist-packages (from moviepy->-r /content/drive/MyDrive/Lip-Sync/MuseTalk/requirements.txt (line 21)) (4.4.2)\n",
            "Requirement already satisfied: proglog<=1.0.0 in /usr/local/lib/python3.10/dist-packages (from moviepy->-r /content/drive/MyDrive/Lip-Sync/MuseTalk/requirements.txt (line 21)) (0.1.10)\n",
            "Requirement already satisfied: sniffio>=1.1 in /usr/local/lib/python3.10/dist-packages (from anyio<5.0,>=3.0->gradio->-r /content/drive/MyDrive/Lip-Sync/MuseTalk/requirements.txt (line 19)) (1.3.1)\n",
            "Requirement already satisfied: exceptiongroup in /usr/local/lib/python3.10/dist-packages (from anyio<5.0,>=3.0->gradio->-r /content/drive/MyDrive/Lip-Sync/MuseTalk/requirements.txt (line 19)) (1.2.2)\n",
            "Requirement already satisfied: pycparser in /usr/local/lib/python3.10/dist-packages (from cffi>=1.0->soundfile==0.12.1->-r /content/drive/MyDrive/Lip-Sync/MuseTalk/requirements.txt (line 10)) (2.22)\n",
            "Requirement already satisfied: cachetools<6.0,>=2.0.0 in /usr/local/lib/python3.10/dist-packages (from google-auth<3,>=1.6.3->tensorboard==2.12.0->-r /content/drive/MyDrive/Lip-Sync/MuseTalk/requirements.txt (line 8)) (5.4.0)\n",
            "Requirement already satisfied: pyasn1-modules>=0.2.1 in /usr/local/lib/python3.10/dist-packages (from google-auth<3,>=1.6.3->tensorboard==2.12.0->-r /content/drive/MyDrive/Lip-Sync/MuseTalk/requirements.txt (line 8)) (0.4.0)\n",
            "Requirement already satisfied: rsa<5,>=3.1.4 in /usr/local/lib/python3.10/dist-packages (from google-auth<3,>=1.6.3->tensorboard==2.12.0->-r /content/drive/MyDrive/Lip-Sync/MuseTalk/requirements.txt (line 8)) (4.9)\n",
            "Requirement already satisfied: requests-oauthlib>=0.7.0 in /usr/local/lib/python3.10/dist-packages (from google-auth-oauthlib<0.5,>=0.4.1->tensorboard==2.12.0->-r /content/drive/MyDrive/Lip-Sync/MuseTalk/requirements.txt (line 8)) (1.3.1)\n",
            "Collecting httpcore==1.* (from httpx>=0.24.1->gradio->-r /content/drive/MyDrive/Lip-Sync/MuseTalk/requirements.txt (line 19))\n",
            "  Downloading httpcore-1.0.5-py3-none-any.whl (77 kB)\n",
            "\u001b[2K     \u001b[90m━━━━━━━━━━━━━━━━━━━━━━━━━━━━━━━━━━━━━━━━\u001b[0m \u001b[32m77.9/77.9 kB\u001b[0m \u001b[31m11.7 MB/s\u001b[0m eta \u001b[36m0:00:00\u001b[0m\n",
            "\u001b[?25hCollecting h11<0.15,>=0.13 (from httpcore==1.*->httpx>=0.24.1->gradio->-r /content/drive/MyDrive/Lip-Sync/MuseTalk/requirements.txt (line 19))\n",
            "  Downloading h11-0.14.0-py3-none-any.whl (58 kB)\n",
            "\u001b[2K     \u001b[90m━━━━━━━━━━━━━━━━━━━━━━━━━━━━━━━━━━━━━━━━\u001b[0m \u001b[32m58.3/58.3 kB\u001b[0m \u001b[31m9.3 MB/s\u001b[0m eta \u001b[36m0:00:00\u001b[0m\n",
            "\u001b[?25hRequirement already satisfied: ml-dtypes>=0.2.0 in /usr/local/lib/python3.10/dist-packages (from jax>=0.3.15->tensorflow==2.12.0->-r /content/drive/MyDrive/Lip-Sync/MuseTalk/requirements.txt (line 7)) (0.2.0)\n",
            "Requirement already satisfied: scipy>=1.9 in /usr/local/lib/python3.10/dist-packages (from jax>=0.3.15->tensorflow==2.12.0->-r /content/drive/MyDrive/Lip-Sync/MuseTalk/requirements.txt (line 7)) (1.11.4)\n",
            "Requirement already satisfied: contourpy>=1.0.1 in /usr/local/lib/python3.10/dist-packages (from matplotlib~=3.0->gradio->-r /content/drive/MyDrive/Lip-Sync/MuseTalk/requirements.txt (line 19)) (1.2.1)\n",
            "Requirement already satisfied: cycler>=0.10 in /usr/local/lib/python3.10/dist-packages (from matplotlib~=3.0->gradio->-r /content/drive/MyDrive/Lip-Sync/MuseTalk/requirements.txt (line 19)) (0.12.1)\n",
            "Requirement already satisfied: fonttools>=4.22.0 in /usr/local/lib/python3.10/dist-packages (from matplotlib~=3.0->gradio->-r /content/drive/MyDrive/Lip-Sync/MuseTalk/requirements.txt (line 19)) (4.53.1)\n",
            "Requirement already satisfied: kiwisolver>=1.0.1 in /usr/local/lib/python3.10/dist-packages (from matplotlib~=3.0->gradio->-r /content/drive/MyDrive/Lip-Sync/MuseTalk/requirements.txt (line 19)) (1.4.5)\n",
            "Requirement already satisfied: pyparsing>=2.3.1 in /usr/local/lib/python3.10/dist-packages (from matplotlib~=3.0->gradio->-r /content/drive/MyDrive/Lip-Sync/MuseTalk/requirements.txt (line 19)) (3.1.2)\n",
            "Requirement already satisfied: python-dateutil>=2.7 in /usr/local/lib/python3.10/dist-packages (from matplotlib~=3.0->gradio->-r /content/drive/MyDrive/Lip-Sync/MuseTalk/requirements.txt (line 19)) (2.8.2)\n",
            "Requirement already satisfied: pytz>=2020.1 in /usr/local/lib/python3.10/dist-packages (from pandas<3.0,>=1.0->gradio->-r /content/drive/MyDrive/Lip-Sync/MuseTalk/requirements.txt (line 19)) (2023.4)\n",
            "Requirement already satisfied: tzdata>=2022.1 in /usr/local/lib/python3.10/dist-packages (from pandas<3.0,>=1.0->gradio->-r /content/drive/MyDrive/Lip-Sync/MuseTalk/requirements.txt (line 19)) (2024.1)\n",
            "Requirement already satisfied: annotated-types>=0.4.0 in /usr/local/lib/python3.10/dist-packages (from pydantic>=2.0->gradio->-r /content/drive/MyDrive/Lip-Sync/MuseTalk/requirements.txt (line 19)) (0.7.0)\n",
            "Requirement already satisfied: pydantic-core==2.20.1 in /usr/local/lib/python3.10/dist-packages (from pydantic>=2.0->gradio->-r /content/drive/MyDrive/Lip-Sync/MuseTalk/requirements.txt (line 19)) (2.20.1)\n",
            "Requirement already satisfied: click>=8.0.0 in /usr/local/lib/python3.10/dist-packages (from typer<1.0,>=0.12->gradio->-r /content/drive/MyDrive/Lip-Sync/MuseTalk/requirements.txt (line 19)) (8.1.7)\n",
            "Requirement already satisfied: shellingham>=1.3.0 in /usr/local/lib/python3.10/dist-packages (from typer<1.0,>=0.12->gradio->-r /content/drive/MyDrive/Lip-Sync/MuseTalk/requirements.txt (line 19)) (1.5.4)\n",
            "Requirement already satisfied: rich>=10.11.0 in /usr/local/lib/python3.10/dist-packages (from typer<1.0,>=0.12->gradio->-r /content/drive/MyDrive/Lip-Sync/MuseTalk/requirements.txt (line 19)) (13.7.1)\n",
            "Requirement already satisfied: soupsieve>1.2 in /usr/local/lib/python3.10/dist-packages (from beautifulsoup4->gdown->-r /content/drive/MyDrive/Lip-Sync/MuseTalk/requirements.txt (line 13)) (2.5)\n",
            "Collecting starlette<0.38.0,>=0.37.2 (from fastapi->gradio->-r /content/drive/MyDrive/Lip-Sync/MuseTalk/requirements.txt (line 19))\n",
            "  Downloading starlette-0.37.2-py3-none-any.whl (71 kB)\n",
            "\u001b[2K     \u001b[90m━━━━━━━━━━━━━━━━━━━━━━━━━━━━━━━━━━━━━━━━\u001b[0m \u001b[32m71.9/71.9 kB\u001b[0m \u001b[31m12.3 MB/s\u001b[0m eta \u001b[36m0:00:00\u001b[0m\n",
            "\u001b[?25hCollecting fastapi-cli>=0.0.2 (from fastapi->gradio->-r /content/drive/MyDrive/Lip-Sync/MuseTalk/requirements.txt (line 19))\n",
            "  Downloading fastapi_cli-0.0.4-py3-none-any.whl (9.5 kB)\n",
            "Collecting email_validator>=2.0.0 (from fastapi->gradio->-r /content/drive/MyDrive/Lip-Sync/MuseTalk/requirements.txt (line 19))\n",
            "  Downloading email_validator-2.2.0-py3-none-any.whl (33 kB)\n",
            "Requirement already satisfied: zipp>=0.5 in /usr/local/lib/python3.10/dist-packages (from importlib-metadata->diffusers==0.27.2->-r /content/drive/MyDrive/Lip-Sync/MuseTalk/requirements.txt (line 5)) (3.19.2)\n",
            "Requirement already satisfied: PySocks!=1.5.7,>=1.5.6 in /usr/local/lib/python3.10/dist-packages (from requests->-r /content/drive/MyDrive/Lip-Sync/MuseTalk/requirements.txt (line 14)) (1.7.1)\n",
            "Requirement already satisfied: mpmath<1.4,>=1.1.0 in /usr/local/lib/python3.10/dist-packages (from sympy->torch==2.0.1->-r /content/drive/MyDrive/Lip-Sync/MuseTalk/requirements.txt (line 2)) (1.3.0)\n",
            "Collecting dnspython>=2.0.0 (from email_validator>=2.0.0->fastapi->gradio->-r /content/drive/MyDrive/Lip-Sync/MuseTalk/requirements.txt (line 19))\n",
            "  Downloading dnspython-2.6.1-py3-none-any.whl (307 kB)\n",
            "\u001b[2K     \u001b[90m━━━━━━━━━━━━━━━━━━━━━━━━━━━━━━━━━━━━━━━━\u001b[0m \u001b[32m307.7/307.7 kB\u001b[0m \u001b[31m32.6 MB/s\u001b[0m eta \u001b[36m0:00:00\u001b[0m\n",
            "\u001b[?25hRequirement already satisfied: pyasn1<0.7.0,>=0.4.6 in /usr/local/lib/python3.10/dist-packages (from pyasn1-modules>=0.2.1->google-auth<3,>=1.6.3->tensorboard==2.12.0->-r /content/drive/MyDrive/Lip-Sync/MuseTalk/requirements.txt (line 8)) (0.6.0)\n",
            "Requirement already satisfied: oauthlib>=3.0.0 in /usr/local/lib/python3.10/dist-packages (from requests-oauthlib>=0.7.0->google-auth-oauthlib<0.5,>=0.4.1->tensorboard==2.12.0->-r /content/drive/MyDrive/Lip-Sync/MuseTalk/requirements.txt (line 8)) (3.2.2)\n",
            "Requirement already satisfied: markdown-it-py>=2.2.0 in /usr/local/lib/python3.10/dist-packages (from rich>=10.11.0->typer<1.0,>=0.12->gradio->-r /content/drive/MyDrive/Lip-Sync/MuseTalk/requirements.txt (line 19)) (3.0.0)\n",
            "Requirement already satisfied: pygments<3.0.0,>=2.13.0 in /usr/local/lib/python3.10/dist-packages (from rich>=10.11.0->typer<1.0,>=0.12->gradio->-r /content/drive/MyDrive/Lip-Sync/MuseTalk/requirements.txt (line 19)) (2.16.1)\n",
            "Collecting httptools>=0.5.0 (from uvicorn>=0.14.0->gradio->-r /content/drive/MyDrive/Lip-Sync/MuseTalk/requirements.txt (line 19))\n",
            "  Downloading httptools-0.6.1-cp310-cp310-manylinux_2_5_x86_64.manylinux1_x86_64.manylinux_2_17_x86_64.manylinux2014_x86_64.whl (341 kB)\n",
            "\u001b[2K     \u001b[90m━━━━━━━━━━━━━━━━━━━━━━━━━━━━━━━━━━━━━━━━\u001b[0m \u001b[32m341.4/341.4 kB\u001b[0m \u001b[31m39.4 MB/s\u001b[0m eta \u001b[36m0:00:00\u001b[0m\n",
            "\u001b[?25hCollecting python-dotenv>=0.13 (from uvicorn>=0.14.0->gradio->-r /content/drive/MyDrive/Lip-Sync/MuseTalk/requirements.txt (line 19))\n",
            "  Downloading python_dotenv-1.0.1-py3-none-any.whl (19 kB)\n",
            "Collecting uvloop!=0.15.0,!=0.15.1,>=0.14.0 (from uvicorn>=0.14.0->gradio->-r /content/drive/MyDrive/Lip-Sync/MuseTalk/requirements.txt (line 19))\n",
            "  Downloading uvloop-0.19.0-cp310-cp310-manylinux_2_17_x86_64.manylinux2014_x86_64.whl (3.4 MB)\n",
            "\u001b[2K     \u001b[90m━━━━━━━━━━━━━━━━━━━━━━━━━━━━━━━━━━━━━━━━\u001b[0m \u001b[32m3.4/3.4 MB\u001b[0m \u001b[31m97.4 MB/s\u001b[0m eta \u001b[36m0:00:00\u001b[0m\n",
            "\u001b[?25hCollecting watchfiles>=0.13 (from uvicorn>=0.14.0->gradio->-r /content/drive/MyDrive/Lip-Sync/MuseTalk/requirements.txt (line 19))\n",
            "  Downloading watchfiles-0.22.0-cp310-cp310-manylinux_2_17_x86_64.manylinux2014_x86_64.whl (1.2 MB)\n",
            "\u001b[2K     \u001b[90m━━━━━━━━━━━━━━━━━━━━━━━━━━━━━━━━━━━━━━━━\u001b[0m \u001b[32m1.2/1.2 MB\u001b[0m \u001b[31m80.9 MB/s\u001b[0m eta \u001b[36m0:00:00\u001b[0m\n",
            "\u001b[?25hRequirement already satisfied: mdurl~=0.1 in /usr/local/lib/python3.10/dist-packages (from markdown-it-py>=2.2.0->rich>=10.11.0->typer<1.0,>=0.12->gradio->-r /content/drive/MyDrive/Lip-Sync/MuseTalk/requirements.txt (line 19)) (0.1.2)\n",
            "Building wheels for collected packages: antlr4-python3-runtime, ffmpy\n",
            "  Building wheel for antlr4-python3-runtime (setup.py) ... \u001b[?25l\u001b[?25hdone\n",
            "  Created wheel for antlr4-python3-runtime: filename=antlr4_python3_runtime-4.9.3-py3-none-any.whl size=144554 sha256=a6a261d106d713a452afa7b61c679115eb1122070598773af83a99848d492488\n",
            "  Stored in directory: /root/.cache/pip/wheels/12/93/dd/1f6a127edc45659556564c5730f6d4e300888f4bca2d4c5a88\n",
            "  Building wheel for ffmpy (setup.py) ... \u001b[?25l\u001b[?25hdone\n",
            "  Created wheel for ffmpy: filename=ffmpy-0.3.2-py3-none-any.whl size=5584 sha256=9da3483e5d381323559b6095ac6f7e28a9931c59cafe8b8f7972f027c49a59ff\n",
            "  Stored in directory: /root/.cache/pip/wheels/bd/65/9a/671fc6dcde07d4418df0c592f8df512b26d7a0029c2a23dd81\n",
            "Successfully built antlr4-python3-runtime ffmpy\n",
            "Installing collected packages: tensorboard-plugin-wit, pydub, lit, ffmpy, antlr4-python3-runtime, websockets, uvloop, tomlkit, tensorflow-estimator, semantic-version, ruff, python-multipart, python-dotenv, orjson, omegaconf, numpy, keras, httptools, h11, gast, ffmpeg-python, dnspython, aiofiles, watchfiles, uvicorn, starlette, opencv-python, httpcore, email_validator, tokenizers, httpx, google-auth-oauthlib, diffusers, transformers, tensorboard, gradio-client, fastapi-cli, tensorflow, fastapi, gradio, spaces, triton, torch, torchvision, torchaudio, accelerate\n",
            "  Attempting uninstall: tensorflow-estimator\n",
            "    Found existing installation: tensorflow-estimator 2.15.0\n",
            "    Uninstalling tensorflow-estimator-2.15.0:\n",
            "      Successfully uninstalled tensorflow-estimator-2.15.0\n",
            "  Attempting uninstall: numpy\n",
            "    Found existing installation: numpy 1.25.2\n",
            "    Uninstalling numpy-1.25.2:\n",
            "      Successfully uninstalled numpy-1.25.2\n",
            "  Attempting uninstall: keras\n",
            "    Found existing installation: keras 2.15.0\n",
            "    Uninstalling keras-2.15.0:\n",
            "      Successfully uninstalled keras-2.15.0\n",
            "  Attempting uninstall: gast\n",
            "    Found existing installation: gast 0.6.0\n",
            "    Uninstalling gast-0.6.0:\n",
            "      Successfully uninstalled gast-0.6.0\n",
            "  Attempting uninstall: opencv-python\n",
            "    Found existing installation: opencv-python 4.8.0.76\n",
            "    Uninstalling opencv-python-4.8.0.76:\n",
            "      Successfully uninstalled opencv-python-4.8.0.76\n",
            "  Attempting uninstall: tokenizers\n",
            "    Found existing installation: tokenizers 0.19.1\n",
            "    Uninstalling tokenizers-0.19.1:\n",
            "      Successfully uninstalled tokenizers-0.19.1\n",
            "  Attempting uninstall: google-auth-oauthlib\n",
            "    Found existing installation: google-auth-oauthlib 1.2.1\n",
            "    Uninstalling google-auth-oauthlib-1.2.1:\n",
            "      Successfully uninstalled google-auth-oauthlib-1.2.1\n",
            "  Attempting uninstall: transformers\n",
            "    Found existing installation: transformers 4.42.4\n",
            "    Uninstalling transformers-4.42.4:\n",
            "      Successfully uninstalled transformers-4.42.4\n",
            "  Attempting uninstall: tensorboard\n",
            "    Found existing installation: tensorboard 2.15.2\n",
            "    Uninstalling tensorboard-2.15.2:\n",
            "      Successfully uninstalled tensorboard-2.15.2\n",
            "  Attempting uninstall: tensorflow\n",
            "    Found existing installation: tensorflow 2.15.0\n",
            "    Uninstalling tensorflow-2.15.0:\n",
            "      Successfully uninstalled tensorflow-2.15.0\n",
            "  Attempting uninstall: triton\n",
            "    Found existing installation: triton 2.3.1\n",
            "    Uninstalling triton-2.3.1:\n",
            "      Successfully uninstalled triton-2.3.1\n",
            "  Attempting uninstall: torch\n",
            "    Found existing installation: torch 2.3.1+cu121\n",
            "    Uninstalling torch-2.3.1+cu121:\n",
            "      Successfully uninstalled torch-2.3.1+cu121\n",
            "  Attempting uninstall: torchvision\n",
            "    Found existing installation: torchvision 0.18.1+cu121\n",
            "    Uninstalling torchvision-0.18.1+cu121:\n",
            "      Successfully uninstalled torchvision-0.18.1+cu121\n",
            "  Attempting uninstall: torchaudio\n",
            "    Found existing installation: torchaudio 2.3.1+cu121\n",
            "    Uninstalling torchaudio-2.3.1+cu121:\n",
            "      Successfully uninstalled torchaudio-2.3.1+cu121\n",
            "  Attempting uninstall: accelerate\n",
            "    Found existing installation: accelerate 0.32.1\n",
            "    Uninstalling accelerate-0.32.1:\n",
            "      Successfully uninstalled accelerate-0.32.1\n",
            "\u001b[31mERROR: pip's dependency resolver does not currently take into account all the packages that are installed. This behaviour is the source of the following dependency conflicts.\n",
            "chex 0.1.86 requires numpy>=1.24.1, but you have numpy 1.23.5 which is incompatible.\n",
            "pandas-gbq 0.19.2 requires google-auth-oauthlib>=0.7.0, but you have google-auth-oauthlib 0.4.6 which is incompatible.\n",
            "pandas-stubs 2.0.3.230814 requires numpy>=1.25.0; python_version >= \"3.9\", but you have numpy 1.23.5 which is incompatible.\n",
            "tf-keras 2.15.1 requires tensorflow<2.16,>=2.15, but you have tensorflow 2.12.0 which is incompatible.\n",
            "torchtext 0.18.0 requires torch>=2.3.0, but you have torch 2.0.1+cu118 which is incompatible.\u001b[0m\u001b[31m\n",
            "\u001b[0mSuccessfully installed accelerate-0.28.0 aiofiles-23.2.1 antlr4-python3-runtime-4.9.3 diffusers-0.27.2 dnspython-2.6.1 email_validator-2.2.0 fastapi-0.111.1 fastapi-cli-0.0.4 ffmpeg-python-0.2.0 ffmpy-0.3.2 gast-0.4.0 google-auth-oauthlib-0.4.6 gradio-4.39.0 gradio-client-1.1.1 h11-0.14.0 httpcore-1.0.5 httptools-0.6.1 httpx-0.27.0 keras-2.12.0 lit-18.1.8 numpy-1.23.5 omegaconf-2.3.0 opencv-python-4.9.0.80 orjson-3.10.6 pydub-0.25.1 python-dotenv-1.0.1 python-multipart-0.0.9 ruff-0.5.4 semantic-version-2.10.0 spaces-0.28.3 starlette-0.37.2 tensorboard-2.12.0 tensorboard-plugin-wit-1.8.1 tensorflow-2.12.0 tensorflow-estimator-2.12.0 tokenizers-0.15.2 tomlkit-0.12.0 torch-2.0.1+cu118 torchaudio-2.0.2+cu118 torchvision-0.15.2+cu118 transformers-4.39.2 triton-2.0.0 uvicorn-0.30.3 uvloop-0.19.0 watchfiles-0.22.0 websockets-11.0.3\n"
          ]
        },
        {
          "output_type": "display_data",
          "data": {
            "application/vnd.colab-display-data+json": {
              "pip_warning": {
                "packages": [
                  "numpy",
                  "pydevd_plugins"
                ]
              },
              "id": "2bb123c2ad37418593b211408e569676"
            }
          },
          "metadata": {}
        }
      ]
    },
    {
      "cell_type": "markdown",
      "source": [
        "NOTE:\n",
        "1. Restart Runtime\n",
        "2. Run Next cell ( mmpose installation )\n",
        "3. **Don't Restart run time again**"
      ],
      "metadata": {
        "id": "IIqea1hRbQwe"
      }
    },
    {
      "cell_type": "code",
      "source": [
        "!pip install --no-cache-dir -U openmim\n",
        "!mim install mmengine\n",
        "!mim install \"mmcv>=2.0.1\"\n",
        "!mim install \"mmdet>=3.1.0\"\n",
        "!mim install \"mmpose>=1.1.0\""
      ],
      "metadata": {
        "colab": {
          "base_uri": "https://localhost:8080/",
          "height": 1000
        },
        "id": "390Oifb-pZe1",
        "outputId": "3c9245e1-f597-4d02-ef6a-a2be77ec1151"
      },
      "execution_count": 1,
      "outputs": [
        {
          "output_type": "stream",
          "name": "stdout",
          "text": [
            "Collecting openmim\n",
            "  Downloading openmim-0.3.9-py2.py3-none-any.whl (52 kB)\n",
            "\u001b[?25l     \u001b[90m━━━━━━━━━━━━━━━━━━━━━━━━━━━━━━━━━━━━━━━━\u001b[0m \u001b[32m0.0/52.7 kB\u001b[0m \u001b[31m?\u001b[0m eta \u001b[36m-:--:--\u001b[0m\r\u001b[2K     \u001b[90m━━━━━━━━━━━━━━━━━━━━━━━━━━━━━━━━━━━━━━━━\u001b[0m \u001b[32m52.7/52.7 kB\u001b[0m \u001b[31m2.5 MB/s\u001b[0m eta \u001b[36m0:00:00\u001b[0m\n",
            "\u001b[?25hRequirement already satisfied: Click in /usr/local/lib/python3.10/dist-packages (from openmim) (8.1.7)\n",
            "Collecting colorama (from openmim)\n",
            "  Downloading colorama-0.4.6-py2.py3-none-any.whl (25 kB)\n",
            "Collecting model-index (from openmim)\n",
            "  Downloading model_index-0.1.11-py3-none-any.whl (34 kB)\n",
            "Collecting opendatalab (from openmim)\n",
            "  Downloading opendatalab-0.0.10-py3-none-any.whl (29 kB)\n",
            "Requirement already satisfied: pandas in /usr/local/lib/python3.10/dist-packages (from openmim) (2.0.3)\n",
            "Requirement already satisfied: pip>=19.3 in /usr/local/lib/python3.10/dist-packages (from openmim) (23.1.2)\n",
            "Requirement already satisfied: requests in /usr/local/lib/python3.10/dist-packages (from openmim) (2.31.0)\n",
            "Requirement already satisfied: rich in /usr/local/lib/python3.10/dist-packages (from openmim) (13.7.1)\n",
            "Requirement already satisfied: tabulate in /usr/local/lib/python3.10/dist-packages (from openmim) (0.9.0)\n",
            "Requirement already satisfied: pyyaml in /usr/local/lib/python3.10/dist-packages (from model-index->openmim) (6.0.1)\n",
            "Requirement already satisfied: markdown in /usr/local/lib/python3.10/dist-packages (from model-index->openmim) (3.6)\n",
            "Collecting ordered-set (from model-index->openmim)\n",
            "  Downloading ordered_set-4.1.0-py3-none-any.whl (7.6 kB)\n",
            "Collecting pycryptodome (from opendatalab->openmim)\n",
            "  Downloading pycryptodome-3.20.0-cp35-abi3-manylinux_2_17_x86_64.manylinux2014_x86_64.whl (2.1 MB)\n",
            "\u001b[2K     \u001b[90m━━━━━━━━━━━━━━━━━━━━━━━━━━━━━━━━━━━━━━━━\u001b[0m \u001b[32m2.1/2.1 MB\u001b[0m \u001b[31m150.9 MB/s\u001b[0m eta \u001b[36m0:00:00\u001b[0m\n",
            "\u001b[?25hRequirement already satisfied: tqdm in /usr/local/lib/python3.10/dist-packages (from opendatalab->openmim) (4.66.4)\n",
            "Collecting openxlab (from opendatalab->openmim)\n",
            "  Downloading openxlab-0.1.1-py3-none-any.whl (308 kB)\n",
            "\u001b[2K     \u001b[90m━━━━━━━━━━━━━━━━━━━━━━━━━━━━━━━━━━━━━━━━\u001b[0m \u001b[32m308.6/308.6 kB\u001b[0m \u001b[31m160.3 MB/s\u001b[0m eta \u001b[36m0:00:00\u001b[0m\n",
            "\u001b[?25hRequirement already satisfied: charset-normalizer<4,>=2 in /usr/local/lib/python3.10/dist-packages (from requests->openmim) (3.3.2)\n",
            "Requirement already satisfied: idna<4,>=2.5 in /usr/local/lib/python3.10/dist-packages (from requests->openmim) (3.7)\n",
            "Requirement already satisfied: urllib3<3,>=1.21.1 in /usr/local/lib/python3.10/dist-packages (from requests->openmim) (2.0.7)\n",
            "Requirement already satisfied: certifi>=2017.4.17 in /usr/local/lib/python3.10/dist-packages (from requests->openmim) (2024.7.4)\n",
            "Requirement already satisfied: python-dateutil>=2.8.2 in /usr/local/lib/python3.10/dist-packages (from pandas->openmim) (2.8.2)\n",
            "Requirement already satisfied: pytz>=2020.1 in /usr/local/lib/python3.10/dist-packages (from pandas->openmim) (2023.4)\n",
            "Requirement already satisfied: tzdata>=2022.1 in /usr/local/lib/python3.10/dist-packages (from pandas->openmim) (2024.1)\n",
            "Requirement already satisfied: numpy>=1.21.0 in /usr/local/lib/python3.10/dist-packages (from pandas->openmim) (1.23.5)\n",
            "Requirement already satisfied: markdown-it-py>=2.2.0 in /usr/local/lib/python3.10/dist-packages (from rich->openmim) (3.0.0)\n",
            "Requirement already satisfied: pygments<3.0.0,>=2.13.0 in /usr/local/lib/python3.10/dist-packages (from rich->openmim) (2.16.1)\n",
            "Requirement already satisfied: mdurl~=0.1 in /usr/local/lib/python3.10/dist-packages (from markdown-it-py>=2.2.0->rich->openmim) (0.1.2)\n",
            "Requirement already satisfied: six>=1.5 in /usr/local/lib/python3.10/dist-packages (from python-dateutil>=2.8.2->pandas->openmim) (1.16.0)\n",
            "Collecting filelock~=3.14.0 (from openxlab->opendatalab->openmim)\n",
            "  Downloading filelock-3.14.0-py3-none-any.whl (12 kB)\n",
            "Collecting oss2~=2.17.0 (from openxlab->opendatalab->openmim)\n",
            "  Downloading oss2-2.17.0.tar.gz (259 kB)\n",
            "\u001b[2K     \u001b[90m━━━━━━━━━━━━━━━━━━━━━━━━━━━━━━━━━━━━━━━━\u001b[0m \u001b[32m259.5/259.5 kB\u001b[0m \u001b[31m167.7 MB/s\u001b[0m eta \u001b[36m0:00:00\u001b[0m\n",
            "\u001b[?25h  Preparing metadata (setup.py) ... \u001b[?25l\u001b[?25hdone\n",
            "Requirement already satisfied: packaging~=24.0 in /usr/local/lib/python3.10/dist-packages (from openxlab->opendatalab->openmim) (24.1)\n",
            "Collecting requests (from openmim)\n",
            "  Downloading requests-2.28.2-py3-none-any.whl (62 kB)\n",
            "\u001b[2K     \u001b[90m━━━━━━━━━━━━━━━━━━━━━━━━━━━━━━━━━━━━━━━━\u001b[0m \u001b[32m62.8/62.8 kB\u001b[0m \u001b[31m217.6 MB/s\u001b[0m eta \u001b[36m0:00:00\u001b[0m\n",
            "\u001b[?25hCollecting rich (from openmim)\n",
            "  Downloading rich-13.4.2-py3-none-any.whl (239 kB)\n",
            "\u001b[2K     \u001b[90m━━━━━━━━━━━━━━━━━━━━━━━━━━━━━━━━━━━━━━━━\u001b[0m \u001b[32m239.4/239.4 kB\u001b[0m \u001b[31m335.1 MB/s\u001b[0m eta \u001b[36m0:00:00\u001b[0m\n",
            "\u001b[?25hCollecting setuptools~=60.2.0 (from openxlab->opendatalab->openmim)\n",
            "  Downloading setuptools-60.2.0-py3-none-any.whl (953 kB)\n",
            "\u001b[2K     \u001b[90m━━━━━━━━━━━━━━━━━━━━━━━━━━━━━━━━━━━━━━━━\u001b[0m \u001b[32m953.1/953.1 kB\u001b[0m \u001b[31m350.8 MB/s\u001b[0m eta \u001b[36m0:00:00\u001b[0m\n",
            "\u001b[?25hCollecting tqdm (from opendatalab->openmim)\n",
            "  Downloading tqdm-4.65.2-py3-none-any.whl (77 kB)\n",
            "\u001b[2K     \u001b[90m━━━━━━━━━━━━━━━━━━━━━━━━━━━━━━━━━━━━━━━━\u001b[0m \u001b[32m77.1/77.1 kB\u001b[0m \u001b[31m230.0 MB/s\u001b[0m eta \u001b[36m0:00:00\u001b[0m\n",
            "\u001b[?25hCollecting urllib3<1.27,>=1.21.1 (from requests->openmim)\n",
            "  Downloading urllib3-1.26.19-py2.py3-none-any.whl (143 kB)\n",
            "\u001b[2K     \u001b[90m━━━━━━━━━━━━━━━━━━━━━━━━━━━━━━━━━━━━━━━━\u001b[0m \u001b[32m143.9/143.9 kB\u001b[0m \u001b[31m279.9 MB/s\u001b[0m eta \u001b[36m0:00:00\u001b[0m\n",
            "\u001b[?25hCollecting crcmod>=1.7 (from oss2~=2.17.0->openxlab->opendatalab->openmim)\n",
            "  Downloading crcmod-1.7.tar.gz (89 kB)\n",
            "\u001b[2K     \u001b[90m━━━━━━━━━━━━━━━━━━━━━━━━━━━━━━━━━━━━━━━━\u001b[0m \u001b[32m89.7/89.7 kB\u001b[0m \u001b[31m284.0 MB/s\u001b[0m eta \u001b[36m0:00:00\u001b[0m\n",
            "\u001b[?25h  Preparing metadata (setup.py) ... \u001b[?25l\u001b[?25hdone\n",
            "Collecting aliyun-python-sdk-kms>=2.4.1 (from oss2~=2.17.0->openxlab->opendatalab->openmim)\n",
            "  Downloading aliyun_python_sdk_kms-2.16.3-py2.py3-none-any.whl (98 kB)\n",
            "\u001b[2K     \u001b[90m━━━━━━━━━━━━━━━━━━━━━━━━━━━━━━━━━━━━━━━━\u001b[0m \u001b[32m98.1/98.1 kB\u001b[0m \u001b[31m288.9 MB/s\u001b[0m eta \u001b[36m0:00:00\u001b[0m\n",
            "\u001b[?25hCollecting aliyun-python-sdk-core>=2.13.12 (from oss2~=2.17.0->openxlab->opendatalab->openmim)\n",
            "  Downloading aliyun-python-sdk-core-2.15.1.tar.gz (443 kB)\n",
            "\u001b[2K     \u001b[90m━━━━━━━━━━━━━━━━━━━━━━━━━━━━━━━━━━━━━━━━\u001b[0m \u001b[32m443.1/443.1 kB\u001b[0m \u001b[31m331.4 MB/s\u001b[0m eta \u001b[36m0:00:00\u001b[0m\n",
            "\u001b[?25h  Preparing metadata (setup.py) ... \u001b[?25l\u001b[?25hdone\n",
            "Collecting jmespath<1.0.0,>=0.9.3 (from aliyun-python-sdk-core>=2.13.12->oss2~=2.17.0->openxlab->opendatalab->openmim)\n",
            "  Downloading jmespath-0.10.0-py2.py3-none-any.whl (24 kB)\n",
            "Requirement already satisfied: cryptography>=2.6.0 in /usr/local/lib/python3.10/dist-packages (from aliyun-python-sdk-core>=2.13.12->oss2~=2.17.0->openxlab->opendatalab->openmim) (42.0.8)\n",
            "Requirement already satisfied: cffi>=1.12 in /usr/local/lib/python3.10/dist-packages (from cryptography>=2.6.0->aliyun-python-sdk-core>=2.13.12->oss2~=2.17.0->openxlab->opendatalab->openmim) (1.16.0)\n",
            "Requirement already satisfied: pycparser in /usr/local/lib/python3.10/dist-packages (from cffi>=1.12->cryptography>=2.6.0->aliyun-python-sdk-core>=2.13.12->oss2~=2.17.0->openxlab->opendatalab->openmim) (2.22)\n",
            "Building wheels for collected packages: oss2, aliyun-python-sdk-core, crcmod\n",
            "  Building wheel for oss2 (setup.py) ... \u001b[?25l\u001b[?25hdone\n",
            "  Created wheel for oss2: filename=oss2-2.17.0-py3-none-any.whl size=112372 sha256=0c037c27e378b9e1bdc77b4bdace1c4dc4d5973b75e9c7b8a5fe52ec3416a484\n",
            "  Stored in directory: /tmp/pip-ephem-wheel-cache-_gpwsh1w/wheels/87/04/7b/7e61b8157fdf211c5131375240d0d86ca82e2a88ead9672c88\n",
            "  Building wheel for aliyun-python-sdk-core (setup.py) ... \u001b[?25l\u001b[?25hdone\n",
            "  Created wheel for aliyun-python-sdk-core: filename=aliyun_python_sdk_core-2.15.1-py3-none-any.whl size=535325 sha256=337d031c903ff0ca86ce93da7defef1f9a5f7560fe25531cc77c37bdcae899c3\n",
            "  Stored in directory: /tmp/pip-ephem-wheel-cache-_gpwsh1w/wheels/69/4b/8e/0a28e00f4cf43b273c18cce083804738d41013e017da922ce4\n",
            "  Building wheel for crcmod (setup.py) ... \u001b[?25l\u001b[?25hdone\n",
            "  Created wheel for crcmod: filename=crcmod-1.7-cp310-cp310-linux_x86_64.whl size=31404 sha256=2ca0e81fe5c39a1dd4754942563f38236bd86e32a56c709a1e5226c2b3e89c75\n",
            "  Stored in directory: /tmp/pip-ephem-wheel-cache-_gpwsh1w/wheels/85/4c/07/72215c529bd59d67e3dac29711d7aba1b692f543c808ba9e86\n",
            "Successfully built oss2 aliyun-python-sdk-core crcmod\n",
            "Installing collected packages: crcmod, urllib3, tqdm, setuptools, pycryptodome, ordered-set, jmespath, filelock, colorama, rich, requests, model-index, aliyun-python-sdk-core, aliyun-python-sdk-kms, oss2, openxlab, opendatalab, openmim\n",
            "  Attempting uninstall: urllib3\n",
            "    Found existing installation: urllib3 2.0.7\n",
            "    Uninstalling urllib3-2.0.7:\n",
            "      Successfully uninstalled urllib3-2.0.7\n",
            "  Attempting uninstall: tqdm\n",
            "    Found existing installation: tqdm 4.66.4\n",
            "    Uninstalling tqdm-4.66.4:\n",
            "      Successfully uninstalled tqdm-4.66.4\n",
            "  Attempting uninstall: setuptools\n",
            "    Found existing installation: setuptools 67.7.2\n",
            "    Uninstalling setuptools-67.7.2:\n",
            "      Successfully uninstalled setuptools-67.7.2\n",
            "  Attempting uninstall: filelock\n",
            "    Found existing installation: filelock 3.15.4\n",
            "    Uninstalling filelock-3.15.4:\n",
            "      Successfully uninstalled filelock-3.15.4\n",
            "  Attempting uninstall: rich\n",
            "    Found existing installation: rich 13.7.1\n",
            "    Uninstalling rich-13.7.1:\n",
            "      Successfully uninstalled rich-13.7.1\n",
            "  Attempting uninstall: requests\n",
            "    Found existing installation: requests 2.31.0\n",
            "    Uninstalling requests-2.31.0:\n",
            "      Successfully uninstalled requests-2.31.0\n",
            "\u001b[31mERROR: pip's dependency resolver does not currently take into account all the packages that are installed. This behaviour is the source of the following dependency conflicts.\n",
            "ipython 7.34.0 requires jedi>=0.16, which is not installed.\n",
            "cvxpy 1.3.4 requires setuptools>65.5.1, but you have setuptools 60.2.0 which is incompatible.\n",
            "google-colab 1.0.0 requires requests==2.31.0, but you have requests 2.28.2 which is incompatible.\n",
            "gradio 4.39.0 requires urllib3~=2.0, but you have urllib3 1.26.19 which is incompatible.\n",
            "pandas-gbq 0.19.2 requires google-auth-oauthlib>=0.7.0, but you have google-auth-oauthlib 0.4.6 which is incompatible.\n",
            "tf-keras 2.15.1 requires tensorflow<2.16,>=2.15, but you have tensorflow 2.12.0 which is incompatible.\n",
            "torchtext 0.18.0 requires torch>=2.3.0, but you have torch 2.0.1+cu118 which is incompatible.\n",
            "yfinance 0.2.40 requires requests>=2.31, but you have requests 2.28.2 which is incompatible.\u001b[0m\u001b[31m\n",
            "\u001b[0mSuccessfully installed aliyun-python-sdk-core-2.15.1 aliyun-python-sdk-kms-2.16.3 colorama-0.4.6 crcmod-1.7 filelock-3.14.0 jmespath-0.10.0 model-index-0.1.11 opendatalab-0.0.10 openmim-0.3.9 openxlab-0.1.1 ordered-set-4.1.0 oss2-2.17.0 pycryptodome-3.20.0 requests-2.28.2 rich-13.4.2 setuptools-60.2.0 tqdm-4.65.2 urllib3-1.26.19\n"
          ]
        },
        {
          "output_type": "display_data",
          "data": {
            "application/vnd.colab-display-data+json": {
              "pip_warning": {
                "packages": [
                  "_distutils_hack",
                  "pkg_resources",
                  "setuptools"
                ]
              },
              "id": "784404bfc9aa4eb5a5a720e103919dcd"
            }
          },
          "metadata": {}
        },
        {
          "output_type": "stream",
          "name": "stdout",
          "text": [
            "Looking in links: https://download.openmmlab.com/mmcv/dist/cu118/torch2.0.0/index.html\n",
            "Collecting mmengine\n",
            "  Downloading mmengine-0.10.4-py3-none-any.whl (451 kB)\n",
            "\u001b[2K     \u001b[90m━━━━━━━━━━━━━━━━━━━━━━━━━━━━━━━━━━━━━━━━\u001b[0m \u001b[32m451.7/451.7 kB\u001b[0m \u001b[31m7.5 MB/s\u001b[0m eta \u001b[36m0:00:00\u001b[0m\n",
            "\u001b[?25hCollecting addict (from mmengine)\n",
            "  Downloading addict-2.4.0-py3-none-any.whl (3.8 kB)\n",
            "Requirement already satisfied: matplotlib in /usr/local/lib/python3.10/dist-packages (from mmengine) (3.7.1)\n",
            "Requirement already satisfied: numpy in /usr/local/lib/python3.10/dist-packages (from mmengine) (1.23.5)\n",
            "Requirement already satisfied: pyyaml in /usr/local/lib/python3.10/dist-packages (from mmengine) (6.0.1)\n",
            "Requirement already satisfied: rich in /usr/local/lib/python3.10/dist-packages (from mmengine) (13.4.2)\n",
            "Requirement already satisfied: termcolor in /usr/local/lib/python3.10/dist-packages (from mmengine) (2.4.0)\n",
            "Collecting yapf (from mmengine)\n",
            "  Downloading yapf-0.40.2-py3-none-any.whl (254 kB)\n",
            "\u001b[2K     \u001b[90m━━━━━━━━━━━━━━━━━━━━━━━━━━━━━━━━━━━━━━━━\u001b[0m \u001b[32m254.7/254.7 kB\u001b[0m \u001b[31m16.8 MB/s\u001b[0m eta \u001b[36m0:00:00\u001b[0m\n",
            "\u001b[?25hRequirement already satisfied: opencv-python>=3 in /usr/local/lib/python3.10/dist-packages (from mmengine) (4.9.0.80)\n",
            "Requirement already satisfied: contourpy>=1.0.1 in /usr/local/lib/python3.10/dist-packages (from matplotlib->mmengine) (1.2.1)\n",
            "Requirement already satisfied: cycler>=0.10 in /usr/local/lib/python3.10/dist-packages (from matplotlib->mmengine) (0.12.1)\n",
            "Requirement already satisfied: fonttools>=4.22.0 in /usr/local/lib/python3.10/dist-packages (from matplotlib->mmengine) (4.53.1)\n",
            "Requirement already satisfied: kiwisolver>=1.0.1 in /usr/local/lib/python3.10/dist-packages (from matplotlib->mmengine) (1.4.5)\n",
            "Requirement already satisfied: packaging>=20.0 in /usr/local/lib/python3.10/dist-packages (from matplotlib->mmengine) (24.1)\n",
            "Requirement already satisfied: pillow>=6.2.0 in /usr/local/lib/python3.10/dist-packages (from matplotlib->mmengine) (9.4.0)\n",
            "Requirement already satisfied: pyparsing>=2.3.1 in /usr/local/lib/python3.10/dist-packages (from matplotlib->mmengine) (3.1.2)\n",
            "Requirement already satisfied: python-dateutil>=2.7 in /usr/local/lib/python3.10/dist-packages (from matplotlib->mmengine) (2.8.2)\n",
            "Requirement already satisfied: markdown-it-py>=2.2.0 in /usr/local/lib/python3.10/dist-packages (from rich->mmengine) (3.0.0)\n",
            "Requirement already satisfied: pygments<3.0.0,>=2.13.0 in /usr/local/lib/python3.10/dist-packages (from rich->mmengine) (2.16.1)\n",
            "Requirement already satisfied: importlib-metadata>=6.6.0 in /usr/local/lib/python3.10/dist-packages (from yapf->mmengine) (8.0.0)\n",
            "Requirement already satisfied: platformdirs>=3.5.1 in /usr/local/lib/python3.10/dist-packages (from yapf->mmengine) (4.2.2)\n",
            "Requirement already satisfied: tomli>=2.0.1 in /usr/local/lib/python3.10/dist-packages (from yapf->mmengine) (2.0.1)\n",
            "Requirement already satisfied: zipp>=0.5 in /usr/local/lib/python3.10/dist-packages (from importlib-metadata>=6.6.0->yapf->mmengine) (3.19.2)\n",
            "Requirement already satisfied: mdurl~=0.1 in /usr/local/lib/python3.10/dist-packages (from markdown-it-py>=2.2.0->rich->mmengine) (0.1.2)\n",
            "Requirement already satisfied: six>=1.5 in /usr/local/lib/python3.10/dist-packages (from python-dateutil>=2.7->matplotlib->mmengine) (1.16.0)\n",
            "Installing collected packages: addict, yapf, mmengine\n",
            "Successfully installed addict-2.4.0 mmengine-0.10.4 yapf-0.40.2\n",
            "Looking in links: https://download.openmmlab.com/mmcv/dist/cu118/torch2.0.0/index.html\n",
            "Collecting mmcv>=2.0.1\n",
            "  Downloading https://download.openmmlab.com/mmcv/dist/cu118/torch2.0.0/mmcv-2.2.0-cp310-cp310-manylinux1_x86_64.whl (98.6 MB)\n",
            "\u001b[2K     \u001b[90m━━━━━━━━━━━━━━━━━━━━━━━━━━━━━━━━━━━━━━━━\u001b[0m \u001b[32m98.6/98.6 MB\u001b[0m \u001b[31m9.3 MB/s\u001b[0m eta \u001b[36m0:00:00\u001b[0m\n",
            "\u001b[?25hRequirement already satisfied: addict in /usr/local/lib/python3.10/dist-packages (from mmcv>=2.0.1) (2.4.0)\n",
            "Requirement already satisfied: mmengine>=0.3.0 in /usr/local/lib/python3.10/dist-packages (from mmcv>=2.0.1) (0.10.4)\n",
            "Requirement already satisfied: numpy in /usr/local/lib/python3.10/dist-packages (from mmcv>=2.0.1) (1.23.5)\n",
            "Requirement already satisfied: packaging in /usr/local/lib/python3.10/dist-packages (from mmcv>=2.0.1) (24.1)\n",
            "Requirement already satisfied: Pillow in /usr/local/lib/python3.10/dist-packages (from mmcv>=2.0.1) (9.4.0)\n",
            "Requirement already satisfied: pyyaml in /usr/local/lib/python3.10/dist-packages (from mmcv>=2.0.1) (6.0.1)\n",
            "Requirement already satisfied: yapf in /usr/local/lib/python3.10/dist-packages (from mmcv>=2.0.1) (0.40.2)\n",
            "Requirement already satisfied: opencv-python>=3 in /usr/local/lib/python3.10/dist-packages (from mmcv>=2.0.1) (4.9.0.80)\n",
            "Requirement already satisfied: matplotlib in /usr/local/lib/python3.10/dist-packages (from mmengine>=0.3.0->mmcv>=2.0.1) (3.7.1)\n",
            "Requirement already satisfied: rich in /usr/local/lib/python3.10/dist-packages (from mmengine>=0.3.0->mmcv>=2.0.1) (13.4.2)\n",
            "Requirement already satisfied: termcolor in /usr/local/lib/python3.10/dist-packages (from mmengine>=0.3.0->mmcv>=2.0.1) (2.4.0)\n",
            "Requirement already satisfied: importlib-metadata>=6.6.0 in /usr/local/lib/python3.10/dist-packages (from yapf->mmcv>=2.0.1) (8.0.0)\n",
            "Requirement already satisfied: platformdirs>=3.5.1 in /usr/local/lib/python3.10/dist-packages (from yapf->mmcv>=2.0.1) (4.2.2)\n",
            "Requirement already satisfied: tomli>=2.0.1 in /usr/local/lib/python3.10/dist-packages (from yapf->mmcv>=2.0.1) (2.0.1)\n",
            "Requirement already satisfied: zipp>=0.5 in /usr/local/lib/python3.10/dist-packages (from importlib-metadata>=6.6.0->yapf->mmcv>=2.0.1) (3.19.2)\n",
            "Requirement already satisfied: contourpy>=1.0.1 in /usr/local/lib/python3.10/dist-packages (from matplotlib->mmengine>=0.3.0->mmcv>=2.0.1) (1.2.1)\n",
            "Requirement already satisfied: cycler>=0.10 in /usr/local/lib/python3.10/dist-packages (from matplotlib->mmengine>=0.3.0->mmcv>=2.0.1) (0.12.1)\n",
            "Requirement already satisfied: fonttools>=4.22.0 in /usr/local/lib/python3.10/dist-packages (from matplotlib->mmengine>=0.3.0->mmcv>=2.0.1) (4.53.1)\n",
            "Requirement already satisfied: kiwisolver>=1.0.1 in /usr/local/lib/python3.10/dist-packages (from matplotlib->mmengine>=0.3.0->mmcv>=2.0.1) (1.4.5)\n",
            "Requirement already satisfied: pyparsing>=2.3.1 in /usr/local/lib/python3.10/dist-packages (from matplotlib->mmengine>=0.3.0->mmcv>=2.0.1) (3.1.2)\n",
            "Requirement already satisfied: python-dateutil>=2.7 in /usr/local/lib/python3.10/dist-packages (from matplotlib->mmengine>=0.3.0->mmcv>=2.0.1) (2.8.2)\n",
            "Requirement already satisfied: markdown-it-py>=2.2.0 in /usr/local/lib/python3.10/dist-packages (from rich->mmengine>=0.3.0->mmcv>=2.0.1) (3.0.0)\n",
            "Requirement already satisfied: pygments<3.0.0,>=2.13.0 in /usr/local/lib/python3.10/dist-packages (from rich->mmengine>=0.3.0->mmcv>=2.0.1) (2.16.1)\n",
            "Requirement already satisfied: mdurl~=0.1 in /usr/local/lib/python3.10/dist-packages (from markdown-it-py>=2.2.0->rich->mmengine>=0.3.0->mmcv>=2.0.1) (0.1.2)\n",
            "Requirement already satisfied: six>=1.5 in /usr/local/lib/python3.10/dist-packages (from python-dateutil>=2.7->matplotlib->mmengine>=0.3.0->mmcv>=2.0.1) (1.16.0)\n",
            "Installing collected packages: mmcv\n",
            "Successfully installed mmcv-2.2.0\n",
            "Looking in links: https://download.openmmlab.com/mmcv/dist/cu118/torch2.0.0/index.html\n",
            "Collecting mmdet>=3.1.0\n",
            "  Downloading mmdet-3.3.0-py3-none-any.whl (2.2 MB)\n",
            "\u001b[2K     \u001b[90m━━━━━━━━━━━━━━━━━━━━━━━━━━━━━━━━━━━━━━━━\u001b[0m \u001b[32m2.2/2.2 MB\u001b[0m \u001b[31m36.0 MB/s\u001b[0m eta \u001b[36m0:00:00\u001b[0m\n",
            "\u001b[?25hRequirement already satisfied: matplotlib in /usr/local/lib/python3.10/dist-packages (from mmdet>=3.1.0) (3.7.1)\n",
            "Requirement already satisfied: numpy in /usr/local/lib/python3.10/dist-packages (from mmdet>=3.1.0) (1.23.5)\n",
            "Requirement already satisfied: pycocotools in /usr/local/lib/python3.10/dist-packages (from mmdet>=3.1.0) (2.0.8)\n",
            "Requirement already satisfied: scipy in /usr/local/lib/python3.10/dist-packages (from mmdet>=3.1.0) (1.11.4)\n",
            "Requirement already satisfied: shapely in /usr/local/lib/python3.10/dist-packages (from mmdet>=3.1.0) (2.0.5)\n",
            "Requirement already satisfied: six in /usr/local/lib/python3.10/dist-packages (from mmdet>=3.1.0) (1.16.0)\n",
            "Collecting terminaltables (from mmdet>=3.1.0)\n",
            "  Downloading terminaltables-3.1.10-py2.py3-none-any.whl (15 kB)\n",
            "Requirement already satisfied: tqdm in /usr/local/lib/python3.10/dist-packages (from mmdet>=3.1.0) (4.65.2)\n",
            "Collecting mmcv<2.2.0,>=2.0.0rc4 (from mmdet>=3.1.0)\n",
            "  Downloading https://download.openmmlab.com/mmcv/dist/cu118/torch2.0.0/mmcv-2.1.0-cp310-cp310-manylinux1_x86_64.whl (98.6 MB)\n",
            "\u001b[2K     \u001b[90m━━━━━━━━━━━━━━━━━━━━━━━━━━━━━━━━━━━━━━━━\u001b[0m \u001b[32m98.6/98.6 MB\u001b[0m \u001b[31m9.9 MB/s\u001b[0m eta \u001b[36m0:00:00\u001b[0m\n",
            "\u001b[?25hRequirement already satisfied: mmengine<1.0.0,>=0.7.1 in /usr/local/lib/python3.10/dist-packages (from mmdet>=3.1.0) (0.10.4)\n",
            "Requirement already satisfied: addict in /usr/local/lib/python3.10/dist-packages (from mmcv<2.2.0,>=2.0.0rc4->mmdet>=3.1.0) (2.4.0)\n",
            "Requirement already satisfied: packaging in /usr/local/lib/python3.10/dist-packages (from mmcv<2.2.0,>=2.0.0rc4->mmdet>=3.1.0) (24.1)\n",
            "Requirement already satisfied: Pillow in /usr/local/lib/python3.10/dist-packages (from mmcv<2.2.0,>=2.0.0rc4->mmdet>=3.1.0) (9.4.0)\n",
            "Requirement already satisfied: pyyaml in /usr/local/lib/python3.10/dist-packages (from mmcv<2.2.0,>=2.0.0rc4->mmdet>=3.1.0) (6.0.1)\n",
            "Requirement already satisfied: yapf in /usr/local/lib/python3.10/dist-packages (from mmcv<2.2.0,>=2.0.0rc4->mmdet>=3.1.0) (0.40.2)\n",
            "Requirement already satisfied: opencv-python>=3 in /usr/local/lib/python3.10/dist-packages (from mmcv<2.2.0,>=2.0.0rc4->mmdet>=3.1.0) (4.9.0.80)\n",
            "Requirement already satisfied: rich in /usr/local/lib/python3.10/dist-packages (from mmengine<1.0.0,>=0.7.1->mmdet>=3.1.0) (13.4.2)\n",
            "Requirement already satisfied: termcolor in /usr/local/lib/python3.10/dist-packages (from mmengine<1.0.0,>=0.7.1->mmdet>=3.1.0) (2.4.0)\n",
            "Requirement already satisfied: contourpy>=1.0.1 in /usr/local/lib/python3.10/dist-packages (from matplotlib->mmdet>=3.1.0) (1.2.1)\n",
            "Requirement already satisfied: cycler>=0.10 in /usr/local/lib/python3.10/dist-packages (from matplotlib->mmdet>=3.1.0) (0.12.1)\n",
            "Requirement already satisfied: fonttools>=4.22.0 in /usr/local/lib/python3.10/dist-packages (from matplotlib->mmdet>=3.1.0) (4.53.1)\n",
            "Requirement already satisfied: kiwisolver>=1.0.1 in /usr/local/lib/python3.10/dist-packages (from matplotlib->mmdet>=3.1.0) (1.4.5)\n",
            "Requirement already satisfied: pyparsing>=2.3.1 in /usr/local/lib/python3.10/dist-packages (from matplotlib->mmdet>=3.1.0) (3.1.2)\n",
            "Requirement already satisfied: python-dateutil>=2.7 in /usr/local/lib/python3.10/dist-packages (from matplotlib->mmdet>=3.1.0) (2.8.2)\n",
            "Requirement already satisfied: markdown-it-py>=2.2.0 in /usr/local/lib/python3.10/dist-packages (from rich->mmengine<1.0.0,>=0.7.1->mmdet>=3.1.0) (3.0.0)\n",
            "Requirement already satisfied: pygments<3.0.0,>=2.13.0 in /usr/local/lib/python3.10/dist-packages (from rich->mmengine<1.0.0,>=0.7.1->mmdet>=3.1.0) (2.16.1)\n",
            "Requirement already satisfied: importlib-metadata>=6.6.0 in /usr/local/lib/python3.10/dist-packages (from yapf->mmcv<2.2.0,>=2.0.0rc4->mmdet>=3.1.0) (8.0.0)\n",
            "Requirement already satisfied: platformdirs>=3.5.1 in /usr/local/lib/python3.10/dist-packages (from yapf->mmcv<2.2.0,>=2.0.0rc4->mmdet>=3.1.0) (4.2.2)\n",
            "Requirement already satisfied: tomli>=2.0.1 in /usr/local/lib/python3.10/dist-packages (from yapf->mmcv<2.2.0,>=2.0.0rc4->mmdet>=3.1.0) (2.0.1)\n",
            "Requirement already satisfied: zipp>=0.5 in /usr/local/lib/python3.10/dist-packages (from importlib-metadata>=6.6.0->yapf->mmcv<2.2.0,>=2.0.0rc4->mmdet>=3.1.0) (3.19.2)\n",
            "Requirement already satisfied: mdurl~=0.1 in /usr/local/lib/python3.10/dist-packages (from markdown-it-py>=2.2.0->rich->mmengine<1.0.0,>=0.7.1->mmdet>=3.1.0) (0.1.2)\n",
            "Installing collected packages: terminaltables, mmcv, mmdet\n",
            "  Attempting uninstall: mmcv\n",
            "    Found existing installation: mmcv 2.2.0\n",
            "    Uninstalling mmcv-2.2.0:\n",
            "      Successfully uninstalled mmcv-2.2.0\n",
            "Successfully installed mmcv-2.1.0 mmdet-3.3.0 terminaltables-3.1.10\n",
            "Looking in links: https://download.openmmlab.com/mmcv/dist/cu118/torch2.0.0/index.html\n",
            "Collecting mmpose>=1.1.0\n",
            "  Downloading mmpose-1.3.2-py2.py3-none-any.whl (1.7 MB)\n",
            "\u001b[2K     \u001b[90m━━━━━━━━━━━━━━━━━━━━━━━━━━━━━━━━━━━━━━━━\u001b[0m \u001b[32m1.7/1.7 MB\u001b[0m \u001b[31m30.2 MB/s\u001b[0m eta \u001b[36m0:00:00\u001b[0m\n",
            "\u001b[?25hCollecting chumpy (from mmpose>=1.1.0)\n",
            "  Downloading chumpy-0.70.tar.gz (50 kB)\n",
            "\u001b[2K     \u001b[90m━━━━━━━━━━━━━━━━━━━━━━━━━━━━━━━━━━━━━━━━\u001b[0m \u001b[32m50.6/50.6 kB\u001b[0m \u001b[31m8.2 MB/s\u001b[0m eta \u001b[36m0:00:00\u001b[0m\n",
            "\u001b[?25h  Preparing metadata (setup.py) ... \u001b[?25l\u001b[?25hdone\n",
            "Collecting json-tricks (from mmpose>=1.1.0)\n",
            "  Downloading json_tricks-3.17.3-py2.py3-none-any.whl (27 kB)\n",
            "Requirement already satisfied: matplotlib in /usr/local/lib/python3.10/dist-packages (from mmpose>=1.1.0) (3.7.1)\n",
            "Collecting munkres (from mmpose>=1.1.0)\n",
            "  Downloading munkres-1.1.4-py2.py3-none-any.whl (7.0 kB)\n",
            "Requirement already satisfied: numpy in /usr/local/lib/python3.10/dist-packages (from mmpose>=1.1.0) (1.23.5)\n",
            "Requirement already satisfied: opencv-python in /usr/local/lib/python3.10/dist-packages (from mmpose>=1.1.0) (4.9.0.80)\n",
            "Requirement already satisfied: pillow in /usr/local/lib/python3.10/dist-packages (from mmpose>=1.1.0) (9.4.0)\n",
            "Requirement already satisfied: scipy in /usr/local/lib/python3.10/dist-packages (from mmpose>=1.1.0) (1.11.4)\n",
            "Requirement already satisfied: torchvision in /usr/local/lib/python3.10/dist-packages (from mmpose>=1.1.0) (0.15.2+cu118)\n",
            "Collecting xtcocotools>=1.12 (from mmpose>=1.1.0)\n",
            "  Downloading xtcocotools-1.14.3-cp310-cp310-manylinux1_x86_64.whl (436 kB)\n",
            "\u001b[2K     \u001b[90m━━━━━━━━━━━━━━━━━━━━━━━━━━━━━━━━━━━━━━━━\u001b[0m \u001b[32m436.0/436.0 kB\u001b[0m \u001b[31m43.3 MB/s\u001b[0m eta \u001b[36m0:00:00\u001b[0m\n",
            "\u001b[?25hRequirement already satisfied: mmcv<3.0.0,>=2.0.0 in /usr/local/lib/python3.10/dist-packages (from mmpose>=1.1.0) (2.1.0)\n",
            "Collecting mmdet<3.3.0,>=3.0.0 (from mmpose>=1.1.0)\n",
            "  Downloading mmdet-3.2.0-py3-none-any.whl (2.1 MB)\n",
            "\u001b[2K     \u001b[90m━━━━━━━━━━━━━━━━━━━━━━━━━━━━━━━━━━━━━━━━\u001b[0m \u001b[32m2.1/2.1 MB\u001b[0m \u001b[31m67.1 MB/s\u001b[0m eta \u001b[36m0:00:00\u001b[0m\n",
            "\u001b[?25hRequirement already satisfied: mmengine<1.0.0,>=0.4.0 in /usr/local/lib/python3.10/dist-packages (from mmpose>=1.1.0) (0.10.4)\n",
            "Requirement already satisfied: addict in /usr/local/lib/python3.10/dist-packages (from mmcv<3.0.0,>=2.0.0->mmpose>=1.1.0) (2.4.0)\n",
            "Requirement already satisfied: packaging in /usr/local/lib/python3.10/dist-packages (from mmcv<3.0.0,>=2.0.0->mmpose>=1.1.0) (24.1)\n",
            "Requirement already satisfied: pyyaml in /usr/local/lib/python3.10/dist-packages (from mmcv<3.0.0,>=2.0.0->mmpose>=1.1.0) (6.0.1)\n",
            "Requirement already satisfied: yapf in /usr/local/lib/python3.10/dist-packages (from mmcv<3.0.0,>=2.0.0->mmpose>=1.1.0) (0.40.2)\n",
            "Requirement already satisfied: pycocotools in /usr/local/lib/python3.10/dist-packages (from mmdet<3.3.0,>=3.0.0->mmpose>=1.1.0) (2.0.8)\n",
            "Requirement already satisfied: shapely in /usr/local/lib/python3.10/dist-packages (from mmdet<3.3.0,>=3.0.0->mmpose>=1.1.0) (2.0.5)\n",
            "Requirement already satisfied: six in /usr/local/lib/python3.10/dist-packages (from mmdet<3.3.0,>=3.0.0->mmpose>=1.1.0) (1.16.0)\n",
            "Requirement already satisfied: terminaltables in /usr/local/lib/python3.10/dist-packages (from mmdet<3.3.0,>=3.0.0->mmpose>=1.1.0) (3.1.10)\n",
            "Requirement already satisfied: tqdm in /usr/local/lib/python3.10/dist-packages (from mmdet<3.3.0,>=3.0.0->mmpose>=1.1.0) (4.65.2)\n",
            "Requirement already satisfied: rich in /usr/local/lib/python3.10/dist-packages (from mmengine<1.0.0,>=0.4.0->mmpose>=1.1.0) (13.4.2)\n",
            "Requirement already satisfied: termcolor in /usr/local/lib/python3.10/dist-packages (from mmengine<1.0.0,>=0.4.0->mmpose>=1.1.0) (2.4.0)\n",
            "Requirement already satisfied: setuptools>=18.0 in /usr/local/lib/python3.10/dist-packages (from xtcocotools>=1.12->mmpose>=1.1.0) (60.2.0)\n",
            "Requirement already satisfied: cython>=0.27.3 in /usr/local/lib/python3.10/dist-packages (from xtcocotools>=1.12->mmpose>=1.1.0) (3.0.10)\n",
            "Requirement already satisfied: contourpy>=1.0.1 in /usr/local/lib/python3.10/dist-packages (from matplotlib->mmpose>=1.1.0) (1.2.1)\n",
            "Requirement already satisfied: cycler>=0.10 in /usr/local/lib/python3.10/dist-packages (from matplotlib->mmpose>=1.1.0) (0.12.1)\n",
            "Requirement already satisfied: fonttools>=4.22.0 in /usr/local/lib/python3.10/dist-packages (from matplotlib->mmpose>=1.1.0) (4.53.1)\n",
            "Requirement already satisfied: kiwisolver>=1.0.1 in /usr/local/lib/python3.10/dist-packages (from matplotlib->mmpose>=1.1.0) (1.4.5)\n",
            "Requirement already satisfied: pyparsing>=2.3.1 in /usr/local/lib/python3.10/dist-packages (from matplotlib->mmpose>=1.1.0) (3.1.2)\n",
            "Requirement already satisfied: python-dateutil>=2.7 in /usr/local/lib/python3.10/dist-packages (from matplotlib->mmpose>=1.1.0) (2.8.2)\n",
            "Requirement already satisfied: requests in /usr/local/lib/python3.10/dist-packages (from torchvision->mmpose>=1.1.0) (2.28.2)\n",
            "Requirement already satisfied: torch==2.0.1 in /usr/local/lib/python3.10/dist-packages (from torchvision->mmpose>=1.1.0) (2.0.1+cu118)\n",
            "Requirement already satisfied: filelock in /usr/local/lib/python3.10/dist-packages (from torch==2.0.1->torchvision->mmpose>=1.1.0) (3.14.0)\n",
            "Requirement already satisfied: typing-extensions in /usr/local/lib/python3.10/dist-packages (from torch==2.0.1->torchvision->mmpose>=1.1.0) (4.12.2)\n",
            "Requirement already satisfied: sympy in /usr/local/lib/python3.10/dist-packages (from torch==2.0.1->torchvision->mmpose>=1.1.0) (1.13.0)\n",
            "Requirement already satisfied: networkx in /usr/local/lib/python3.10/dist-packages (from torch==2.0.1->torchvision->mmpose>=1.1.0) (3.3)\n",
            "Requirement already satisfied: jinja2 in /usr/local/lib/python3.10/dist-packages (from torch==2.0.1->torchvision->mmpose>=1.1.0) (3.1.4)\n",
            "Requirement already satisfied: triton==2.0.0 in /usr/local/lib/python3.10/dist-packages (from torch==2.0.1->torchvision->mmpose>=1.1.0) (2.0.0)\n",
            "Requirement already satisfied: cmake in /usr/local/lib/python3.10/dist-packages (from triton==2.0.0->torch==2.0.1->torchvision->mmpose>=1.1.0) (3.27.9)\n",
            "Requirement already satisfied: lit in /usr/local/lib/python3.10/dist-packages (from triton==2.0.0->torch==2.0.1->torchvision->mmpose>=1.1.0) (18.1.8)\n",
            "Requirement already satisfied: charset-normalizer<4,>=2 in /usr/local/lib/python3.10/dist-packages (from requests->torchvision->mmpose>=1.1.0) (3.3.2)\n",
            "Requirement already satisfied: idna<4,>=2.5 in /usr/local/lib/python3.10/dist-packages (from requests->torchvision->mmpose>=1.1.0) (3.7)\n",
            "Requirement already satisfied: urllib3<1.27,>=1.21.1 in /usr/local/lib/python3.10/dist-packages (from requests->torchvision->mmpose>=1.1.0) (1.26.19)\n",
            "Requirement already satisfied: certifi>=2017.4.17 in /usr/local/lib/python3.10/dist-packages (from requests->torchvision->mmpose>=1.1.0) (2024.7.4)\n",
            "Requirement already satisfied: markdown-it-py>=2.2.0 in /usr/local/lib/python3.10/dist-packages (from rich->mmengine<1.0.0,>=0.4.0->mmpose>=1.1.0) (3.0.0)\n",
            "Requirement already satisfied: pygments<3.0.0,>=2.13.0 in /usr/local/lib/python3.10/dist-packages (from rich->mmengine<1.0.0,>=0.4.0->mmpose>=1.1.0) (2.16.1)\n",
            "Requirement already satisfied: importlib-metadata>=6.6.0 in /usr/local/lib/python3.10/dist-packages (from yapf->mmcv<3.0.0,>=2.0.0->mmpose>=1.1.0) (8.0.0)\n",
            "Requirement already satisfied: platformdirs>=3.5.1 in /usr/local/lib/python3.10/dist-packages (from yapf->mmcv<3.0.0,>=2.0.0->mmpose>=1.1.0) (4.2.2)\n",
            "Requirement already satisfied: tomli>=2.0.1 in /usr/local/lib/python3.10/dist-packages (from yapf->mmcv<3.0.0,>=2.0.0->mmpose>=1.1.0) (2.0.1)\n",
            "Requirement already satisfied: zipp>=0.5 in /usr/local/lib/python3.10/dist-packages (from importlib-metadata>=6.6.0->yapf->mmcv<3.0.0,>=2.0.0->mmpose>=1.1.0) (3.19.2)\n",
            "Requirement already satisfied: mdurl~=0.1 in /usr/local/lib/python3.10/dist-packages (from markdown-it-py>=2.2.0->rich->mmengine<1.0.0,>=0.4.0->mmpose>=1.1.0) (0.1.2)\n",
            "Requirement already satisfied: MarkupSafe>=2.0 in /usr/local/lib/python3.10/dist-packages (from jinja2->torch==2.0.1->torchvision->mmpose>=1.1.0) (2.1.5)\n",
            "Requirement already satisfied: mpmath<1.4,>=1.1.0 in /usr/local/lib/python3.10/dist-packages (from sympy->torch==2.0.1->torchvision->mmpose>=1.1.0) (1.3.0)\n",
            "Building wheels for collected packages: chumpy\n",
            "  Building wheel for chumpy (setup.py) ... \u001b[?25l\u001b[?25hdone\n",
            "  Created wheel for chumpy: filename=chumpy-0.70-py3-none-any.whl size=58281 sha256=955bed607f143dd5392a5c35128c36efb0fea616aed29177f462c8b99b8d5bdc\n",
            "  Stored in directory: /root/.cache/pip/wheels/e0/c1/ef/29ba7be03653a29ef6f2c3e1956d6c4d8877f2b243af411db1\n",
            "Successfully built chumpy\n",
            "Installing collected packages: munkres, json-tricks, chumpy, xtcocotools, mmdet, mmpose\n",
            "  Attempting uninstall: mmdet\n",
            "    Found existing installation: mmdet 3.3.0\n",
            "    Uninstalling mmdet-3.3.0:\n",
            "      Successfully uninstalled mmdet-3.3.0\n",
            "Successfully installed chumpy-0.70 json-tricks-3.17.3 mmdet-3.2.0 mmpose-1.3.2 munkres-1.1.4 xtcocotools-1.14.3\n"
          ]
        }
      ]
    },
    {
      "cell_type": "code",
      "source": [
        "cd /content/drive/MyDrive/Lip-Sync/MuseTalk"
      ],
      "metadata": {
        "colab": {
          "base_uri": "https://localhost:8080/"
        },
        "id": "VQw2qv2fZYAI",
        "outputId": "75caa675-81e4-4975-e6bc-00d85ae612a2"
      },
      "execution_count": 2,
      "outputs": [
        {
          "output_type": "stream",
          "name": "stdout",
          "text": [
            "/content/drive/.shortcut-targets-by-id/1GyP__si2oQveB7Ehfyjwabph3DUUc47g/Lip-Sync/MuseTalk\n"
          ]
        }
      ]
    },
    {
      "cell_type": "code",
      "source": [
        "ls"
      ],
      "metadata": {
        "colab": {
          "base_uri": "https://localhost:8080/"
        },
        "id": "YT6YmZpRZz0x",
        "outputId": "a3471daf-3f64-4790-e65c-7e98939a9631"
      },
      "execution_count": 3,
      "outputs": [
        {
          "output_type": "stream",
          "name": "stdout",
          "text": [
            "app.py                              ffmpeg-release-amd64-static.tar.xz.1  \u001b[0m\u001b[01;34mnode_modules\u001b[0m/\n",
            "\u001b[01;34massets\u001b[0m/                             ffmpeg-release-amd64-static.tar.xz.2  package.json\n",
            "\u001b[01;34mconfigs\u001b[0m/                            ffmpeg-release-amd64-static.tar.xz.3  package-lock.json\n",
            "\u001b[01;34mdata\u001b[0m/                               ffmpeg-release-amd64-static.tar.xz.4  README.md\n",
            "entrypoint.sh                       ffmpeg-release-amd64-static.tar.xz.5  requirements.txt\n",
            "\u001b[01;34mffmpeg-7.0.1-amd64-static\u001b[0m/          LICENSE                               \u001b[01;34mresults\u001b[0m/\n",
            "ffmpeg-release-amd64-static.tar.xz  \u001b[01;34mmusetalk\u001b[0m/                             \u001b[01;34mscripts\u001b[0m/\n"
          ]
        }
      ]
    },
    {
      "cell_type": "code",
      "source": [
        "!wget https://johnvansickle.com/ffmpeg/releases/ffmpeg-release-amd64-static.tar.xz\n",
        "!tar -xvf ffmpeg-release-amd64-static.tar.xz"
      ],
      "metadata": {
        "colab": {
          "base_uri": "https://localhost:8080/"
        },
        "id": "LI4Gp2qpbJNR",
        "outputId": "efc08092-8bc4-429f-de51-b42c7b1f7885"
      },
      "execution_count": 4,
      "outputs": [
        {
          "output_type": "stream",
          "name": "stdout",
          "text": [
            "--2024-07-24 01:37:33--  https://johnvansickle.com/ffmpeg/releases/ffmpeg-release-amd64-static.tar.xz\n",
            "Resolving johnvansickle.com (johnvansickle.com)... 107.180.57.212\n",
            "Connecting to johnvansickle.com (johnvansickle.com)|107.180.57.212|:443... connected.\n",
            "HTTP request sent, awaiting response... 200 OK\n",
            "Length: 41887256 (40M) [application/x-xz]\n",
            "Saving to: ‘ffmpeg-release-amd64-static.tar.xz.6’\n",
            "\n",
            "ffmpeg-release-amd6 100%[===================>]  39.95M  11.6MB/s    in 3.5s    \n",
            "\n",
            "2024-07-24 01:37:37 (11.6 MB/s) - ‘ffmpeg-release-amd64-static.tar.xz.6’ saved [41887256/41887256]\n",
            "\n",
            "ffmpeg-7.0.1-amd64-static/\n",
            "ffmpeg-7.0.1-amd64-static/GPLv3.txt\n",
            "ffmpeg-7.0.1-amd64-static/manpages/\n",
            "ffmpeg-7.0.1-amd64-static/manpages/ffmpeg-all.txt\n",
            "ffmpeg-7.0.1-amd64-static/manpages/ffmpeg-scaler.txt\n",
            "ffmpeg-7.0.1-amd64-static/manpages/ffmpeg-resampler.txt\n",
            "ffmpeg-7.0.1-amd64-static/manpages/ffmpeg-filters.txt\n",
            "ffmpeg-7.0.1-amd64-static/manpages/ffprobe.txt\n",
            "ffmpeg-7.0.1-amd64-static/manpages/ffmpeg-devices.txt\n",
            "ffmpeg-7.0.1-amd64-static/manpages/ffmpeg-utils.txt\n",
            "ffmpeg-7.0.1-amd64-static/manpages/ffmpeg-protocols.txt\n",
            "ffmpeg-7.0.1-amd64-static/manpages/ffmpeg-codecs.txt\n",
            "ffmpeg-7.0.1-amd64-static/manpages/ffmpeg-bitstream-filters.txt\n",
            "ffmpeg-7.0.1-amd64-static/manpages/ffmpeg.txt\n",
            "ffmpeg-7.0.1-amd64-static/manpages/ffmpeg-formats.txt\n",
            "ffmpeg-7.0.1-amd64-static/ffprobe\n",
            "ffmpeg-7.0.1-amd64-static/qt-faststart\n",
            "ffmpeg-7.0.1-amd64-static/model/\n",
            "ffmpeg-7.0.1-amd64-static/model/vmaf_4k_v0.6.1.json\n",
            "ffmpeg-7.0.1-amd64-static/model/vmaf_rb_v0.6.3/\n",
            "ffmpeg-7.0.1-amd64-static/model/vmaf_rb_v0.6.3/vmaf_rb_v0.6.3.pkl.0020.model\n",
            "ffmpeg-7.0.1-amd64-static/model/vmaf_rb_v0.6.3/vmaf_rb_v0.6.3.pkl.0005\n",
            "ffmpeg-7.0.1-amd64-static/model/vmaf_rb_v0.6.3/vmaf_rb_v0.6.3.pkl.0015\n",
            "ffmpeg-7.0.1-amd64-static/model/vmaf_rb_v0.6.3/vmaf_rb_v0.6.3.pkl.0016.model\n",
            "ffmpeg-7.0.1-amd64-static/model/vmaf_rb_v0.6.3/vmaf_rb_v0.6.3.pkl.model\n",
            "ffmpeg-7.0.1-amd64-static/model/vmaf_rb_v0.6.3/vmaf_rb_v0.6.3.pkl.0008.model\n",
            "ffmpeg-7.0.1-amd64-static/model/vmaf_rb_v0.6.3/vmaf_rb_v0.6.3.pkl.0020\n",
            "ffmpeg-7.0.1-amd64-static/model/vmaf_rb_v0.6.3/vmaf_rb_v0.6.3.pkl.0017.model\n",
            "ffmpeg-7.0.1-amd64-static/model/vmaf_rb_v0.6.3/vmaf_rb_v0.6.3.pkl.0014\n",
            "ffmpeg-7.0.1-amd64-static/model/vmaf_rb_v0.6.3/vmaf_rb_v0.6.3.pkl.0011\n",
            "ffmpeg-7.0.1-amd64-static/model/vmaf_rb_v0.6.3/vmaf_rb_v0.6.3.pkl.0012\n",
            "ffmpeg-7.0.1-amd64-static/model/vmaf_rb_v0.6.3/vmaf_rb_v0.6.3.pkl.0004\n",
            "ffmpeg-7.0.1-amd64-static/model/vmaf_rb_v0.6.3/vmaf_rb_v0.6.3.pkl.0005.model\n",
            "ffmpeg-7.0.1-amd64-static/model/vmaf_rb_v0.6.3/vmaf_rb_v0.6.3.pkl.0013.model\n",
            "ffmpeg-7.0.1-amd64-static/model/vmaf_rb_v0.6.3/vmaf_rb_v0.6.3.pkl.0007.model\n",
            "ffmpeg-7.0.1-amd64-static/model/vmaf_rb_v0.6.3/vmaf_rb_v0.6.3.pkl.0001\n",
            "ffmpeg-7.0.1-amd64-static/model/vmaf_rb_v0.6.3/vmaf_rb_v0.6.3.pkl.0009\n",
            "ffmpeg-7.0.1-amd64-static/model/vmaf_rb_v0.6.3/vmaf_rb_v0.6.3.pkl.0009.model\n",
            "ffmpeg-7.0.1-amd64-static/model/vmaf_rb_v0.6.3/vmaf_rb_v0.6.3.pkl.0004.model\n",
            "ffmpeg-7.0.1-amd64-static/model/vmaf_rb_v0.6.3/vmaf_rb_v0.6.3.pkl.0019.model\n",
            "ffmpeg-7.0.1-amd64-static/model/vmaf_rb_v0.6.3/vmaf_rb_v0.6.3.pkl.0007\n",
            "ffmpeg-7.0.1-amd64-static/model/vmaf_rb_v0.6.3/vmaf_rb_v0.6.3.pkl.0006\n",
            "ffmpeg-7.0.1-amd64-static/model/vmaf_rb_v0.6.3/vmaf_rb_v0.6.3.pkl.0017\n",
            "ffmpeg-7.0.1-amd64-static/model/vmaf_rb_v0.6.3/vmaf_rb_v0.6.3.pkl.0011.model\n",
            "ffmpeg-7.0.1-amd64-static/model/vmaf_rb_v0.6.3/vmaf_rb_v0.6.3.pkl.0008\n",
            "ffmpeg-7.0.1-amd64-static/model/vmaf_rb_v0.6.3/vmaf_rb_v0.6.3.pkl.0010\n",
            "ffmpeg-7.0.1-amd64-static/model/vmaf_rb_v0.6.3/vmaf_rb_v0.6.3.pkl.0018\n",
            "ffmpeg-7.0.1-amd64-static/model/vmaf_rb_v0.6.3/vmaf_rb_v0.6.3.pkl.0002.model\n",
            "ffmpeg-7.0.1-amd64-static/model/vmaf_rb_v0.6.3/vmaf_rb_v0.6.3.pkl.0012.model\n",
            "ffmpeg-7.0.1-amd64-static/model/vmaf_rb_v0.6.3/vmaf_rb_v0.6.3.pkl\n",
            "ffmpeg-7.0.1-amd64-static/model/vmaf_rb_v0.6.3/vmaf_rb_v0.6.3.pkl.0003.model\n",
            "ffmpeg-7.0.1-amd64-static/model/vmaf_rb_v0.6.3/vmaf_rb_v0.6.3.pkl.0019\n",
            "ffmpeg-7.0.1-amd64-static/model/vmaf_rb_v0.6.3/vmaf_rb_v0.6.3.pkl.0014.model\n",
            "ffmpeg-7.0.1-amd64-static/model/vmaf_rb_v0.6.3/vmaf_rb_v0.6.3.pkl.0018.model\n",
            "ffmpeg-7.0.1-amd64-static/model/vmaf_rb_v0.6.3/vmaf_rb_v0.6.3.json\n",
            "ffmpeg-7.0.1-amd64-static/model/vmaf_rb_v0.6.3/vmaf_rb_v0.6.3.pkl.0016\n",
            "ffmpeg-7.0.1-amd64-static/model/vmaf_rb_v0.6.3/vmaf_rb_v0.6.3.pkl.0010.model\n",
            "ffmpeg-7.0.1-amd64-static/model/vmaf_rb_v0.6.3/vmaf_rb_v0.6.3.pkl.0001.model\n",
            "ffmpeg-7.0.1-amd64-static/model/vmaf_rb_v0.6.3/vmaf_rb_v0.6.3.pkl.0003\n",
            "ffmpeg-7.0.1-amd64-static/model/vmaf_rb_v0.6.3/vmaf_rb_v0.6.3.pkl.0015.model\n",
            "ffmpeg-7.0.1-amd64-static/model/vmaf_rb_v0.6.3/vmaf_rb_v0.6.3.pkl.0013\n",
            "ffmpeg-7.0.1-amd64-static/model/vmaf_rb_v0.6.3/vmaf_rb_v0.6.3.pkl.0006.model\n",
            "ffmpeg-7.0.1-amd64-static/model/vmaf_rb_v0.6.3/vmaf_rb_v0.6.3.pkl.0002\n",
            "ffmpeg-7.0.1-amd64-static/model/vmaf_v0.6.1.json\n",
            "ffmpeg-7.0.1-amd64-static/model/vmaf_rb_v0.6.2/\n",
            "ffmpeg-7.0.1-amd64-static/model/vmaf_rb_v0.6.2/vmaf_rb_v0.6.2.pkl.0019.model\n",
            "ffmpeg-7.0.1-amd64-static/model/vmaf_rb_v0.6.2/vmaf_rb_v0.6.2.pkl.0005.model\n",
            "ffmpeg-7.0.1-amd64-static/model/vmaf_rb_v0.6.2/vmaf_rb_v0.6.2.pkl.0004\n",
            "ffmpeg-7.0.1-amd64-static/model/vmaf_rb_v0.6.2/vmaf_rb_v0.6.2.pkl.0015\n",
            "ffmpeg-7.0.1-amd64-static/model/vmaf_rb_v0.6.2/vmaf_rb_v0.6.2.pkl.0010.model\n",
            "ffmpeg-7.0.1-amd64-static/model/vmaf_rb_v0.6.2/vmaf_rb_v0.6.2.pkl\n",
            "ffmpeg-7.0.1-amd64-static/model/vmaf_rb_v0.6.2/vmaf_rb_v0.6.2.pkl.0012.model\n",
            "ffmpeg-7.0.1-amd64-static/model/vmaf_rb_v0.6.2/vmaf_rb_v0.6.2.pkl.0005\n",
            "ffmpeg-7.0.1-amd64-static/model/vmaf_rb_v0.6.2/vmaf_rb_v0.6.2.pkl.0008.model\n",
            "ffmpeg-7.0.1-amd64-static/model/vmaf_rb_v0.6.2/vmaf_rb_v0.6.2.pkl.0009\n",
            "ffmpeg-7.0.1-amd64-static/model/vmaf_rb_v0.6.2/vmaf_rb_v0.6.2.pkl.0018\n",
            "ffmpeg-7.0.1-amd64-static/model/vmaf_rb_v0.6.2/vmaf_rb_v0.6.2.pkl.0015.model\n",
            "ffmpeg-7.0.1-amd64-static/model/vmaf_rb_v0.6.2/vmaf_rb_v0.6.2.pkl.0011\n",
            "ffmpeg-7.0.1-amd64-static/model/vmaf_rb_v0.6.2/vmaf_rb_v0.6.2.pkl.0014.model\n",
            "ffmpeg-7.0.1-amd64-static/model/vmaf_rb_v0.6.2/vmaf_rb_v0.6.2.pkl.0012\n",
            "ffmpeg-7.0.1-amd64-static/model/vmaf_rb_v0.6.2/vmaf_rb_v0.6.2.pkl.0003.model\n",
            "ffmpeg-7.0.1-amd64-static/model/vmaf_rb_v0.6.2/vmaf_rb_v0.6.2.pkl.0006.model\n",
            "ffmpeg-7.0.1-amd64-static/model/vmaf_rb_v0.6.2/vmaf_rb_v0.6.2.pkl.0013.model\n",
            "ffmpeg-7.0.1-amd64-static/model/vmaf_rb_v0.6.2/vmaf_rb_v0.6.2.pkl.0001\n",
            "ffmpeg-7.0.1-amd64-static/model/vmaf_rb_v0.6.2/vmaf_rb_v0.6.2.pkl.0011.model\n",
            "ffmpeg-7.0.1-amd64-static/model/vmaf_rb_v0.6.2/vmaf_rb_v0.6.2.pkl.0007\n",
            "ffmpeg-7.0.1-amd64-static/model/vmaf_rb_v0.6.2/vmaf_rb_v0.6.2.pkl.0006\n",
            "ffmpeg-7.0.1-amd64-static/model/vmaf_rb_v0.6.2/vmaf_rb_v0.6.2.pkl.model\n",
            "ffmpeg-7.0.1-amd64-static/model/vmaf_rb_v0.6.2/vmaf_rb_v0.6.2.pkl.0017\n",
            "ffmpeg-7.0.1-amd64-static/model/vmaf_rb_v0.6.2/vmaf_rb_v0.6.2.pkl.0008\n",
            "ffmpeg-7.0.1-amd64-static/model/vmaf_rb_v0.6.2/vmaf_rb_v0.6.2.pkl.0003\n",
            "ffmpeg-7.0.1-amd64-static/model/vmaf_rb_v0.6.2/vmaf_rb_v0.6.2.pkl.0002\n",
            "ffmpeg-7.0.1-amd64-static/model/vmaf_rb_v0.6.2/vmaf_rb_v0.6.2.pkl.0004.model\n",
            "ffmpeg-7.0.1-amd64-static/model/vmaf_rb_v0.6.2/vmaf_rb_v0.6.2.pkl.0001.model\n",
            "ffmpeg-7.0.1-amd64-static/model/vmaf_rb_v0.6.2/vmaf_rb_v0.6.2.pkl.0018.model\n",
            "ffmpeg-7.0.1-amd64-static/model/vmaf_rb_v0.6.2/vmaf_rb_v0.6.2.pkl.0002.model\n",
            "ffmpeg-7.0.1-amd64-static/model/vmaf_rb_v0.6.2/vmaf_rb_v0.6.2.json\n",
            "ffmpeg-7.0.1-amd64-static/model/vmaf_rb_v0.6.2/vmaf_rb_v0.6.2.pkl.0014\n",
            "ffmpeg-7.0.1-amd64-static/model/vmaf_rb_v0.6.2/vmaf_rb_v0.6.2.pkl.0017.model\n",
            "ffmpeg-7.0.1-amd64-static/model/vmaf_rb_v0.6.2/vmaf_rb_v0.6.2.pkl.0019\n",
            "ffmpeg-7.0.1-amd64-static/model/vmaf_rb_v0.6.2/vmaf_rb_v0.6.2.pkl.0009.model\n",
            "ffmpeg-7.0.1-amd64-static/model/vmaf_rb_v0.6.2/vmaf_rb_v0.6.2.pkl.0013\n",
            "ffmpeg-7.0.1-amd64-static/model/vmaf_rb_v0.6.2/vmaf_rb_v0.6.2.pkl.0007.model\n",
            "ffmpeg-7.0.1-amd64-static/model/vmaf_rb_v0.6.2/vmaf_rb_v0.6.2.pkl.0016.model\n",
            "ffmpeg-7.0.1-amd64-static/model/vmaf_rb_v0.6.2/vmaf_rb_v0.6.2.pkl.0010\n",
            "ffmpeg-7.0.1-amd64-static/model/vmaf_rb_v0.6.2/vmaf_rb_v0.6.2.pkl.0016\n",
            "ffmpeg-7.0.1-amd64-static/model/vmaf_float_v0.6.1.pkl\n",
            "ffmpeg-7.0.1-amd64-static/model/vmaf_float_v0.6.1neg.pkl.model\n",
            "ffmpeg-7.0.1-amd64-static/model/vmaf_float_b_v0.6.3.json\n",
            "ffmpeg-7.0.1-amd64-static/model/vmaf_v0.6.1neg.json\n",
            "ffmpeg-7.0.1-amd64-static/model/000-PLEASE-README.TXT\n",
            "ffmpeg-7.0.1-amd64-static/model/vmaf_float_4k_v0.6.1.json\n",
            "ffmpeg-7.0.1-amd64-static/model/vmaf_4k_rb_v0.6.2/\n",
            "ffmpeg-7.0.1-amd64-static/model/vmaf_4k_rb_v0.6.2/vmaf_4k_rb_v0.6.2.pkl.0008.model\n",
            "ffmpeg-7.0.1-amd64-static/model/vmaf_4k_rb_v0.6.2/vmaf_4k_rb_v0.6.2.pkl.0012\n",
            "ffmpeg-7.0.1-amd64-static/model/vmaf_4k_rb_v0.6.2/vmaf_4k_rb_v0.6.2.pkl.0002.model\n",
            "ffmpeg-7.0.1-amd64-static/model/vmaf_4k_rb_v0.6.2/vmaf_4k_rb_v0.6.2.pkl.0007.model\n",
            "ffmpeg-7.0.1-amd64-static/model/vmaf_4k_rb_v0.6.2/vmaf_4k_rb_v0.6.2.pkl.0011.model\n",
            "ffmpeg-7.0.1-amd64-static/model/vmaf_4k_rb_v0.6.2/vmaf_4k_rb_v0.6.2.pkl.0019\n",
            "ffmpeg-7.0.1-amd64-static/model/vmaf_4k_rb_v0.6.2/vmaf_4k_rb_v0.6.2.pkl.0017.model\n",
            "ffmpeg-7.0.1-amd64-static/model/vmaf_4k_rb_v0.6.2/vmaf_4k_rb_v0.6.2.pkl.0017\n",
            "ffmpeg-7.0.1-amd64-static/model/vmaf_4k_rb_v0.6.2/vmaf_4k_rb_v0.6.2.pkl.0009\n",
            "ffmpeg-7.0.1-amd64-static/model/vmaf_4k_rb_v0.6.2/vmaf_4k_rb_v0.6.2.pkl.0010\n",
            "ffmpeg-7.0.1-amd64-static/model/vmaf_4k_rb_v0.6.2/vmaf_4k_rb_v0.6.2.pkl.0005.model\n",
            "ffmpeg-7.0.1-amd64-static/model/vmaf_4k_rb_v0.6.2/vmaf_4k_rb_v0.6.2.pkl.0009.model\n",
            "ffmpeg-7.0.1-amd64-static/model/vmaf_4k_rb_v0.6.2/vmaf_4k_rb_v0.6.2.pkl.0013\n",
            "ffmpeg-7.0.1-amd64-static/model/vmaf_4k_rb_v0.6.2/vmaf_4k_rb_v0.6.2.pkl.0018\n",
            "ffmpeg-7.0.1-amd64-static/model/vmaf_4k_rb_v0.6.2/vmaf_4k_rb_v0.6.2.pkl.0013.model\n",
            "ffmpeg-7.0.1-amd64-static/model/vmaf_4k_rb_v0.6.2/vmaf_4k_rb_v0.6.2.pkl.0014\n",
            "ffmpeg-7.0.1-amd64-static/model/vmaf_4k_rb_v0.6.2/vmaf_4k_rb_v0.6.2.pkl.0004\n",
            "ffmpeg-7.0.1-amd64-static/model/vmaf_4k_rb_v0.6.2/vmaf_4k_rb_v0.6.2.pkl.0006.model\n",
            "ffmpeg-7.0.1-amd64-static/model/vmaf_4k_rb_v0.6.2/vmaf_4k_rb_v0.6.2.pkl.0005\n",
            "ffmpeg-7.0.1-amd64-static/model/vmaf_4k_rb_v0.6.2/vmaf_4k_rb_v0.6.2.pkl.0007\n",
            "ffmpeg-7.0.1-amd64-static/model/vmaf_4k_rb_v0.6.2/vmaf_4k_rb_v0.6.2.pkl.0019.model\n",
            "ffmpeg-7.0.1-amd64-static/model/vmaf_4k_rb_v0.6.2/vmaf_4k_rb_v0.6.2.pkl.0015.model\n",
            "ffmpeg-7.0.1-amd64-static/model/vmaf_4k_rb_v0.6.2/vmaf_4k_rb_v0.6.2.pkl.0010.model\n",
            "ffmpeg-7.0.1-amd64-static/model/vmaf_4k_rb_v0.6.2/vmaf_4k_rb_v0.6.2.pkl.0008\n",
            "ffmpeg-7.0.1-amd64-static/model/vmaf_4k_rb_v0.6.2/vmaf_4k_rb_v0.6.2.pkl.0004.model\n",
            "ffmpeg-7.0.1-amd64-static/model/vmaf_4k_rb_v0.6.2/vmaf_4k_rb_v0.6.2.json\n",
            "ffmpeg-7.0.1-amd64-static/model/vmaf_4k_rb_v0.6.2/vmaf_4k_rb_v0.6.2.pkl\n",
            "ffmpeg-7.0.1-amd64-static/model/vmaf_4k_rb_v0.6.2/vmaf_4k_rb_v0.6.2.pkl.0006\n",
            "ffmpeg-7.0.1-amd64-static/model/vmaf_4k_rb_v0.6.2/vmaf_4k_rb_v0.6.2.pkl.0001.model\n",
            "ffmpeg-7.0.1-amd64-static/model/vmaf_4k_rb_v0.6.2/vmaf_4k_rb_v0.6.2.pkl.0016.model\n",
            "ffmpeg-7.0.1-amd64-static/model/vmaf_4k_rb_v0.6.2/vmaf_4k_rb_v0.6.2.pkl.model\n",
            "ffmpeg-7.0.1-amd64-static/model/vmaf_4k_rb_v0.6.2/vmaf_4k_rb_v0.6.2.pkl.0015\n",
            "ffmpeg-7.0.1-amd64-static/model/vmaf_4k_rb_v0.6.2/vmaf_4k_rb_v0.6.2.pkl.0003.model\n",
            "ffmpeg-7.0.1-amd64-static/model/vmaf_4k_rb_v0.6.2/vmaf_4k_rb_v0.6.2.pkl.0011\n",
            "ffmpeg-7.0.1-amd64-static/model/vmaf_4k_rb_v0.6.2/vmaf_4k_rb_v0.6.2.pkl.0016\n",
            "ffmpeg-7.0.1-amd64-static/model/vmaf_4k_rb_v0.6.2/vmaf_4k_rb_v0.6.2.pkl.0003\n",
            "ffmpeg-7.0.1-amd64-static/model/vmaf_4k_rb_v0.6.2/vmaf_4k_rb_v0.6.2.pkl.0014.model\n",
            "ffmpeg-7.0.1-amd64-static/model/vmaf_4k_rb_v0.6.2/vmaf_4k_rb_v0.6.2.pkl.0018.model\n",
            "ffmpeg-7.0.1-amd64-static/model/vmaf_4k_rb_v0.6.2/vmaf_4k_rb_v0.6.2.pkl.0001\n",
            "ffmpeg-7.0.1-amd64-static/model/vmaf_4k_rb_v0.6.2/vmaf_4k_rb_v0.6.2.pkl.0002\n",
            "ffmpeg-7.0.1-amd64-static/model/vmaf_4k_rb_v0.6.2/vmaf_4k_rb_v0.6.2.pkl.0012.model\n",
            "ffmpeg-7.0.1-amd64-static/model/vmaf_float_v0.6.1neg.json\n",
            "ffmpeg-7.0.1-amd64-static/model/vmaf_float_v0.6.1neg.pkl\n",
            "ffmpeg-7.0.1-amd64-static/model/vmaf_b_v0.6.3.json\n",
            "ffmpeg-7.0.1-amd64-static/model/vmaf_float_b_v0.6.3/\n",
            "ffmpeg-7.0.1-amd64-static/model/vmaf_float_b_v0.6.3/vmaf_float_b_v0.6.3.pkl.0003\n",
            "ffmpeg-7.0.1-amd64-static/model/vmaf_float_b_v0.6.3/vmaf_float_b_v0.6.3.pkl.0015.model\n",
            "ffmpeg-7.0.1-amd64-static/model/vmaf_float_b_v0.6.3/vmaf_float_b_v0.6.3.pkl.0001.model\n",
            "ffmpeg-7.0.1-amd64-static/model/vmaf_float_b_v0.6.3/vmaf_float_b_v0.6.3.pkl\n",
            "ffmpeg-7.0.1-amd64-static/model/vmaf_float_b_v0.6.3/vmaf_float_b_v0.6.3.pkl.0012\n",
            "ffmpeg-7.0.1-amd64-static/model/vmaf_float_b_v0.6.3/vmaf_float_b_v0.6.3.pkl.0019.model\n",
            "ffmpeg-7.0.1-amd64-static/model/vmaf_float_b_v0.6.3/vmaf_float_b_v0.6.3.pkl.0017\n",
            "ffmpeg-7.0.1-amd64-static/model/vmaf_float_b_v0.6.3/vmaf_float_b_v0.6.3.pkl.0012.model\n",
            "ffmpeg-7.0.1-amd64-static/model/vmaf_float_b_v0.6.3/vmaf_float_b_v0.6.3.pkl.0003.model\n",
            "ffmpeg-7.0.1-amd64-static/model/vmaf_float_b_v0.6.3/vmaf_float_b_v0.6.3.pkl.0009.model\n",
            "ffmpeg-7.0.1-amd64-static/model/vmaf_float_b_v0.6.3/vmaf_float_b_v0.6.3.pkl.0016\n",
            "ffmpeg-7.0.1-amd64-static/model/vmaf_float_b_v0.6.3/vmaf_float_b_v0.6.3.pkl.0008.model\n",
            "ffmpeg-7.0.1-amd64-static/model/vmaf_float_b_v0.6.3/vmaf_float_b_v0.6.3.pkl.0015\n",
            "ffmpeg-7.0.1-amd64-static/model/vmaf_float_b_v0.6.3/vmaf_float_b_v0.6.3.pkl.0006\n",
            "ffmpeg-7.0.1-amd64-static/model/vmaf_float_b_v0.6.3/vmaf_float_b_v0.6.3.pkl.0009\n",
            "ffmpeg-7.0.1-amd64-static/model/vmaf_float_b_v0.6.3/vmaf_float_b_v0.6.3.pkl.0004.model\n",
            "ffmpeg-7.0.1-amd64-static/model/vmaf_float_b_v0.6.3/vmaf_float_b_v0.6.3.pkl.0017.model\n",
            "ffmpeg-7.0.1-amd64-static/model/vmaf_float_b_v0.6.3/vmaf_float_b_v0.6.3.json\n",
            "ffmpeg-7.0.1-amd64-static/model/vmaf_float_b_v0.6.3/vmaf_float_b_v0.6.3.pkl.0008\n",
            "ffmpeg-7.0.1-amd64-static/model/vmaf_float_b_v0.6.3/vmaf_float_b_v0.6.3.pkl.0001\n",
            "ffmpeg-7.0.1-amd64-static/model/vmaf_float_b_v0.6.3/vmaf_float_b_v0.6.3.pkl.0011\n",
            "ffmpeg-7.0.1-amd64-static/model/vmaf_float_b_v0.6.3/vmaf_float_b_v0.6.3.pkl.0004\n",
            "ffmpeg-7.0.1-amd64-static/model/vmaf_float_b_v0.6.3/vmaf_float_b_v0.6.3.pkl.0002.model\n",
            "ffmpeg-7.0.1-amd64-static/model/vmaf_float_b_v0.6.3/vmaf_float_b_v0.6.3.pkl.0005\n",
            "ffmpeg-7.0.1-amd64-static/model/vmaf_float_b_v0.6.3/vmaf_float_b_v0.6.3.pkl.0014\n",
            "ffmpeg-7.0.1-amd64-static/model/vmaf_float_b_v0.6.3/vmaf_float_b_v0.6.3.pkl.0014.model\n",
            "ffmpeg-7.0.1-amd64-static/model/vmaf_float_b_v0.6.3/vmaf_float_b_v0.6.3.pkl.0007.model\n",
            "ffmpeg-7.0.1-amd64-static/model/vmaf_float_b_v0.6.3/vmaf_float_b_v0.6.3.pkl.model\n",
            "ffmpeg-7.0.1-amd64-static/model/vmaf_float_b_v0.6.3/vmaf_float_b_v0.6.3.pkl.0002\n",
            "ffmpeg-7.0.1-amd64-static/model/vmaf_float_b_v0.6.3/vmaf_float_b_v0.6.3.pkl.0020.model\n",
            "ffmpeg-7.0.1-amd64-static/model/vmaf_float_b_v0.6.3/vmaf_float_b_v0.6.3.pkl.0007\n",
            "ffmpeg-7.0.1-amd64-static/model/vmaf_float_b_v0.6.3/vmaf_float_b_v0.6.3.pkl.0018.model\n",
            "ffmpeg-7.0.1-amd64-static/model/vmaf_float_b_v0.6.3/vmaf_float_b_v0.6.3.pkl.0020\n",
            "ffmpeg-7.0.1-amd64-static/model/vmaf_float_b_v0.6.3/vmaf_float_b_v0.6.3.pkl.0010\n",
            "ffmpeg-7.0.1-amd64-static/model/vmaf_float_b_v0.6.3/vmaf_float_b_v0.6.3.pkl.0013.model\n",
            "ffmpeg-7.0.1-amd64-static/model/vmaf_float_b_v0.6.3/vmaf_float_b_v0.6.3.pkl.0011.model\n",
            "ffmpeg-7.0.1-amd64-static/model/vmaf_float_b_v0.6.3/vmaf_float_b_v0.6.3.pkl.0016.model\n",
            "ffmpeg-7.0.1-amd64-static/model/vmaf_float_b_v0.6.3/vmaf_float_b_v0.6.3.pkl.0010.model\n",
            "ffmpeg-7.0.1-amd64-static/model/vmaf_float_b_v0.6.3/vmaf_float_b_v0.6.3.pkl.0006.model\n",
            "ffmpeg-7.0.1-amd64-static/model/vmaf_float_b_v0.6.3/vmaf_float_b_v0.6.3.pkl.0019\n",
            "ffmpeg-7.0.1-amd64-static/model/vmaf_float_b_v0.6.3/vmaf_float_b_v0.6.3.pkl.0013\n",
            "ffmpeg-7.0.1-amd64-static/model/vmaf_float_b_v0.6.3/vmaf_float_b_v0.6.3.pkl.0018\n",
            "ffmpeg-7.0.1-amd64-static/model/vmaf_float_b_v0.6.3/vmaf_float_b_v0.6.3.pkl.0005.model\n",
            "ffmpeg-7.0.1-amd64-static/model/vmaf_float_v0.6.1.json\n",
            "ffmpeg-7.0.1-amd64-static/model/other_models/\n",
            "ffmpeg-7.0.1-amd64-static/model/other_models/nflxall_vmafv2.pkl.model\n",
            "ffmpeg-7.0.1-amd64-static/model/other_models/vmaf_v0.6.0.pkl\n",
            "ffmpeg-7.0.1-amd64-static/model/other_models/nflx_vmaff_rf_v2.pkl\n",
            "ffmpeg-7.0.1-amd64-static/model/other_models/vmaf_v0.6.0.json\n",
            "ffmpeg-7.0.1-amd64-static/model/other_models/nflxtrain_vmafv2.pkl\n",
            "ffmpeg-7.0.1-amd64-static/model/other_models/nflxtrain_vmafv3.pkl\n",
            "ffmpeg-7.0.1-amd64-static/model/other_models/niqe_v0.1.pkl\n",
            "ffmpeg-7.0.1-amd64-static/model/other_models/nflxtrain_libsvmnusvr_currentbest.pkl.model\n",
            "ffmpeg-7.0.1-amd64-static/model/other_models/nflxall_vmafv3.pkl.model\n",
            "ffmpeg-7.0.1-amd64-static/model/other_models/nflxall_vmafv1.pkl\n",
            "ffmpeg-7.0.1-amd64-static/model/other_models/nflx_v1.pkl\n",
            "ffmpeg-7.0.1-amd64-static/model/other_models/vmaf_4k_v0.6.1rc.pkl\n",
            "ffmpeg-7.0.1-amd64-static/model/other_models/nflxall_vmafv4.pkl\n",
            "ffmpeg-7.0.1-amd64-static/model/other_models/vmaf_4k_v0.6.1rc.pkl.model\n",
            "ffmpeg-7.0.1-amd64-static/model/other_models/nflx_v1.pkl.model\n",
            "ffmpeg-7.0.1-amd64-static/model/other_models/nflxtrain_vmafv1.pkl.model\n",
            "ffmpeg-7.0.1-amd64-static/model/other_models/nflxall_vmafv4.pkl.model\n",
            "ffmpeg-7.0.1-amd64-static/model/other_models/nflx_v1.json\n",
            "ffmpeg-7.0.1-amd64-static/model/other_models/nflxtrain_vmafv1.pkl\n",
            "ffmpeg-7.0.1-amd64-static/model/other_models/nflxall_libsvmnusvr_currentbest.pkl.model\n",
            "ffmpeg-7.0.1-amd64-static/model/other_models/nflxtrain_vmafv3a.pkl\n",
            "ffmpeg-7.0.1-amd64-static/model/other_models/nflxtrain_vmafv3.pkl.model\n",
            "ffmpeg-7.0.1-amd64-static/model/other_models/nflxtrain_norm_type_none.pkl\n",
            "ffmpeg-7.0.1-amd64-static/model/other_models/vmaf_v0.6.0.pkl.model\n",
            "ffmpeg-7.0.1-amd64-static/model/other_models/vmaf_v0.6.1mfz.json\n",
            "ffmpeg-7.0.1-amd64-static/model/other_models/nflxall_vmafv3a.pkl\n",
            "ffmpeg-7.0.1-amd64-static/model/other_models/nflxall_vmafv1.pkl.model\n",
            "ffmpeg-7.0.1-amd64-static/model/other_models/nflxall_vmafv3.pkl\n",
            "ffmpeg-7.0.1-amd64-static/model/other_models/nflxtrain_libsvmnusvr_currentbest.pkl\n",
            "ffmpeg-7.0.1-amd64-static/model/other_models/nflxall_libsvmnusvr_currentbest.pkl\n",
            "ffmpeg-7.0.1-amd64-static/model/other_models/nflx_vmaff_rf_v1.pkl\n",
            "ffmpeg-7.0.1-amd64-static/model/other_models/nflxtrain_vmafv2.pkl.model\n",
            "ffmpeg-7.0.1-amd64-static/model/other_models/nflxall_vmafv2.pkl\n",
            "ffmpeg-7.0.1-amd64-static/model/other_models/model_V8a.model\n",
            "ffmpeg-7.0.1-amd64-static/model/other_models/nflxtrain_norm_type_none.pkl.model\n",
            "ffmpeg-7.0.1-amd64-static/model/other_models/nflxtrain_vmafv3a.pkl.model\n",
            "ffmpeg-7.0.1-amd64-static/model/other_models/nflxall_vmafv3a.pkl.model\n",
            "ffmpeg-7.0.1-amd64-static/model/other_models/nflxtrain_norm_type_none.json\n",
            "ffmpeg-7.0.1-amd64-static/model/vmaf_float_v0.6.1.pkl.model\n",
            "ffmpeg-7.0.1-amd64-static/readme.txt\n",
            "ffmpeg-7.0.1-amd64-static/ffmpeg\n"
          ]
        }
      ]
    },
    {
      "cell_type": "code",
      "source": [
        "!apt-get install -y ffmpeg\n",
        "import os\n",
        "os.environ['FFMPEG_PATH'] = '/content/Lip_Sync_Model/models/MuseTalk/MuseTalk/ffmpeg-7.0.1-amd64-static/ffmpeg'"
      ],
      "metadata": {
        "colab": {
          "base_uri": "https://localhost:8080/"
        },
        "id": "IZdOW6AVbQii",
        "outputId": "67e39436-65e5-4255-9d7c-e746c7d06237"
      },
      "execution_count": 5,
      "outputs": [
        {
          "output_type": "stream",
          "name": "stdout",
          "text": [
            "Reading package lists... Done\n",
            "Building dependency tree... Done\n",
            "Reading state information... Done\n",
            "ffmpeg is already the newest version (7:4.4.2-0ubuntu0.22.04.1).\n",
            "0 upgraded, 0 newly installed, 0 to remove and 45 not upgraded.\n"
          ]
        }
      ]
    },
    {
      "cell_type": "code",
      "source": [
        "!export FFMPEG_PATH=/musetalk/ffmpeg-4.4-amd64-static"
      ],
      "metadata": {
        "id": "XWrKuIu_b5y5"
      },
      "execution_count": 6,
      "outputs": []
    },
    {
      "cell_type": "code",
      "source": [
        "ls"
      ],
      "metadata": {
        "colab": {
          "base_uri": "https://localhost:8080/"
        },
        "id": "EP0XXKaJgkcj",
        "outputId": "fb677d0c-c2a6-4ba2-83fa-3f65dfd48964"
      },
      "execution_count": 7,
      "outputs": [
        {
          "output_type": "stream",
          "name": "stdout",
          "text": [
            "app.py                                ffmpeg-release-amd64-static.tar.xz.2  package.json\n",
            "\u001b[0m\u001b[01;34massets\u001b[0m/                               ffmpeg-release-amd64-static.tar.xz.3  package-lock.json\n",
            "\u001b[01;34mconfigs\u001b[0m/                              ffmpeg-release-amd64-static.tar.xz.4  README.md\n",
            "\u001b[01;34mdata\u001b[0m/                                 ffmpeg-release-amd64-static.tar.xz.5  requirements.txt\n",
            "entrypoint.sh                         ffmpeg-release-amd64-static.tar.xz.6  \u001b[01;34mresults\u001b[0m/\n",
            "\u001b[01;34mffmpeg-7.0.1-amd64-static\u001b[0m/            LICENSE                               \u001b[01;34mscripts\u001b[0m/\n",
            "ffmpeg-release-amd64-static.tar.xz    \u001b[01;34mmusetalk\u001b[0m/\n",
            "ffmpeg-release-amd64-static.tar.xz.1  \u001b[01;34mnode_modules\u001b[0m/\n"
          ]
        }
      ]
    },
    {
      "cell_type": "markdown",
      "source": [
        "## Continue Setup for Drive"
      ],
      "metadata": {
        "id": "7dBczM3hZ1zC"
      }
    },
    {
      "cell_type": "code",
      "source": [
        "%cd /content/drive/MyDrive/Lip-Sync/MuseTalk/musetalk/models/musetalk"
      ],
      "metadata": {
        "colab": {
          "base_uri": "https://localhost:8080/"
        },
        "id": "sGUcRnkfEVfA",
        "outputId": "8874ea54-8569-4028-a3be-4ac4d5368b04"
      },
      "execution_count": null,
      "outputs": [
        {
          "output_type": "stream",
          "name": "stdout",
          "text": [
            "/content/drive/MyDrive/Lip-Sync/MuseTalk/musetalk/models/musetalk\n"
          ]
        }
      ]
    },
    {
      "cell_type": "code",
      "source": [
        "!git clone https://huggingface.co/TMElyralab/MuseTalk"
      ],
      "metadata": {
        "colab": {
          "base_uri": "https://localhost:8080/"
        },
        "id": "oUdwotf-3wnQ",
        "outputId": "1f51f47f-acc3-4b94-e00f-65b347fb07f1"
      },
      "execution_count": null,
      "outputs": [
        {
          "output_type": "stream",
          "name": "stdout",
          "text": [
            "Cloning into 'MuseTalk'...\n",
            "remote: Enumerating objects: 15, done.\u001b[K\n",
            "remote: Counting objects: 100% (11/11), done.\u001b[K\n",
            "remote: Compressing objects: 100% (11/11), done.\u001b[K\n",
            "remote: Total 15 (delta 1), reused 0 (delta 0), pack-reused 4 (from 1)\u001b[K\n",
            "Unpacking objects: 100% (15/15), 8.80 KiB | 35.00 KiB/s, done.\n",
            "fatal: cannot exec '/content/drive/MyDrive/Lip-Sync/MuseTalk/musetalk/models/musetalk/MuseTalk/.git/hooks/post-checkout': Permission denied\n"
          ]
        }
      ]
    },
    {
      "cell_type": "code",
      "source": [
        "%cd /content/drive/MyDrive/Lip-Sync/MuseTalk/musetalk/models/sd-vae-ft-mse"
      ],
      "metadata": {
        "colab": {
          "base_uri": "https://localhost:8080/"
        },
        "id": "QqpWuk3_EgHP",
        "outputId": "be935cf5-c94a-4631-c36b-89b497941697"
      },
      "execution_count": null,
      "outputs": [
        {
          "output_type": "stream",
          "name": "stdout",
          "text": [
            "/content/drive/MyDrive/Lip-Sync/MuseTalk/musetalk/models/sd-vae-ft-mse\n"
          ]
        }
      ]
    },
    {
      "cell_type": "code",
      "source": [
        "!git clone https://huggingface.co/stabilityai/sd-vae-ft-mse"
      ],
      "metadata": {
        "colab": {
          "base_uri": "https://localhost:8080/"
        },
        "id": "H3DuqfFK4vE3",
        "outputId": "522c8065-2190-4fd8-f95a-3ebc417d1773"
      },
      "execution_count": null,
      "outputs": [
        {
          "output_type": "stream",
          "name": "stdout",
          "text": [
            "Cloning into 'sd-vae-ft-mse'...\n",
            "remote: Enumerating objects: 28, done.\u001b[K\n",
            "remote: Counting objects: 100% (12/12), done.\u001b[K\n",
            "remote: Compressing objects: 100% (5/5), done.\u001b[K\n",
            "remote: Total 28 (delta 9), reused 7 (delta 7), pack-reused 16 (from 1)\u001b[K\n",
            "Unpacking objects: 100% (28/28), 6.93 KiB | 5.00 KiB/s, done.\n",
            "Updating files: 100% (5/5), done.\n",
            "Filtering content: 100% (2/2), 638.34 MiB | 23.65 MiB/s, done.\n",
            "fatal: cannot exec '/content/drive/MyDrive/Lip-Sync/MuseTalk/musetalk/models/sd-vae-ft-mse/sd-vae-ft-mse/.git/hooks/post-checkout': Permission denied\n"
          ]
        }
      ]
    },
    {
      "cell_type": "code",
      "source": [
        "%cd /content/drive/MyDrive/Lip-Sync/MuseTalk/musetalk/models/dwpose"
      ],
      "metadata": {
        "colab": {
          "base_uri": "https://localhost:8080/"
        },
        "id": "lZ_ci8e5G1Iw",
        "outputId": "1df6a095-6724-4e54-a25f-429e218a95d6"
      },
      "execution_count": null,
      "outputs": [
        {
          "output_type": "stream",
          "name": "stdout",
          "text": [
            "/content/drive/MyDrive/Lip-Sync/MuseTalk/musetalk/models/dwpose\n"
          ]
        }
      ]
    },
    {
      "cell_type": "code",
      "source": [
        "!git clone https://huggingface.co/yzd-v/DWPose"
      ],
      "metadata": {
        "colab": {
          "base_uri": "https://localhost:8080/"
        },
        "id": "xU7QIJIM4u6r",
        "outputId": "212c1603-694a-42f1-c039-32e845dffc30"
      },
      "execution_count": null,
      "outputs": [
        {
          "output_type": "stream",
          "name": "stdout",
          "text": [
            "Cloning into 'DWPose'...\n",
            "remote: Enumerating objects: 18, done.\u001b[K\n",
            "remote: Total 18 (delta 0), reused 0 (delta 0), pack-reused 18 (from 1)\u001b[K\n",
            "Unpacking objects: 100% (18/18), 2.40 KiB | 4.00 KiB/s, done.\n",
            "Filtering content: 100% (10/10), 1.99 GiB | 26.48 MiB/s, done.\n",
            "fatal: cannot exec '/content/drive/MyDrive/Lip-Sync/MuseTalk/musetalk/models/dwpose/DWPose/.git/hooks/post-checkout': Permission denied\n"
          ]
        }
      ]
    },
    {
      "cell_type": "code",
      "source": [
        "%cd /content/drive/MyDrive/Lip-Sync/MuseTalk/musetalk/models/face-parse-bisent"
      ],
      "metadata": {
        "colab": {
          "base_uri": "https://localhost:8080/"
        },
        "id": "WRnZlWntQ_4E",
        "outputId": "313d06d3-5b84-4759-8a3b-b33a34f43c30"
      },
      "execution_count": null,
      "outputs": [
        {
          "output_type": "stream",
          "name": "stdout",
          "text": [
            "/content/drive/MyDrive/Lip-Sync/MuseTalk/musetalk/models/face-parse-bisent\n"
          ]
        }
      ]
    },
    {
      "cell_type": "code",
      "source": [
        "!git clone https://github.com/zllrunning/face-makeup.PyTorch.git"
      ],
      "metadata": {
        "colab": {
          "base_uri": "https://localhost:8080/"
        },
        "id": "a3Dieiv9N4Oj",
        "outputId": "5982f386-f75d-495a-a32e-79e20b1bc575"
      },
      "execution_count": null,
      "outputs": [
        {
          "output_type": "stream",
          "name": "stdout",
          "text": [
            "Cloning into 'face-makeup.PyTorch'...\n",
            "remote: Enumerating objects: 59, done.\u001b[K\n",
            "remote: Total 59 (delta 0), reused 0 (delta 0), pack-reused 59\u001b[K\n",
            "Receiving objects: 100% (59/59), 50.81 MiB | 13.15 MiB/s, done.\n",
            "Resolving deltas: 100% (26/26), done.\n",
            "Updating files: 100% (24/24), done.\n"
          ]
        }
      ]
    },
    {
      "cell_type": "markdown",
      "source": [
        "## Inference"
      ],
      "metadata": {
        "id": "fhCNC4QbalFx"
      }
    },
    {
      "cell_type": "code",
      "source": [
        "!python -m scripts.inference --inference_config configs/inference/test.yaml"
      ],
      "metadata": {
        "id": "ZTkXKQG96f2P",
        "colab": {
          "base_uri": "https://localhost:8080/"
        },
        "outputId": "3c7ac4aa-669f-4272-e0b5-ba5f8c3bd560"
      },
      "execution_count": null,
      "outputs": [
        {
          "output_type": "stream",
          "name": "stdout",
          "text": [
            "add ffmpeg to path\n",
            "Loads checkpoint by local backend from path: /content/drive/MyDrive/Lip-Sync/MuseTalk/musetalk/models/dwpose/dw-ll_ucoco_384.pth\n",
            "cuda start\n",
            "Downloading: \"https://www.adrianbulat.com/downloads/python-fan/s3fd-619a316812.pth\" to /root/.cache/torch/hub/checkpoints/s3fd-619a316812.pth\n",
            "100% 85.7M/85.7M [00:06<00:00, 15.0MB/s]\n",
            "{'task_0': {'video_path': '/content/drive/MyDrive/Lip-Sync/Resources/Video/13_K.mp4', 'audio_path': '/content/drive/MyDrive/Lip-Sync/Resources/10_S.wav'}, 'task_1': {'video_path': '/content/drive/MyDrive/Lip-Sync/Resources/Video/13_K.mp4', 'audio_path': '/content/drive/MyDrive/Lip-Sync/Resources/96_E.wav'}, 'task_2': {'video_path': '/content/drive/MyDrive/Lip-Sync/Resources/Video/13_K.mp4', 'audio_path': '/content/drive/MyDrive/Lip-Sync/Resources/96_A.wav'}, 'task_3': {'video_path': '/content/drive/MyDrive/Lip-Sync/Resources/Video/13_K.mp4', 'audio_path': '/content/drive/MyDrive/Lip-Sync/Resources/96_K.wav'}}\n",
            "video in 25.0 FPS, audio idx in 50FPS\n",
            "extracting landmarks...time consuming\n",
            "reading images...\n",
            "100% 777/777 [00:27<00:00, 28.71it/s]\n",
            "get key_landmark and face bounding boxes with the default value\n",
            "100% 777/777 [05:35<00:00,  2.32it/s]\n",
            "********************************************bbox_shift parameter adjustment**********************************************************\n",
            "Total frame:「777」 Manually adjust range : [ -8~7 ] , the current value: 0\n",
            "*************************************************************************************************************************************\n",
            "start inference\n",
            "100% 75/75 [02:20<00:00,  1.88s/it]\n",
            "pad talking image to original video\n",
            "100% 596/596 [02:09<00:00,  4.62it/s]\n",
            "ffmpeg -y -v warning -r 25.0 -f image2 -i /content/drive/MyDrive/Lip-Sync/MuseTalk/results/13_K_10_S/%08d.png -vcodec libx264 -vf format=rgb24,scale=out_color_matrix=bt709,format=yuv420p -crf 18 temp.mp4\n",
            "ffmpeg -y -v warning -i /content/drive/MyDrive/Lip-Sync/Resources/10_S.wav -i temp.mp4 /content/drive/MyDrive/Lip-Sync/MuseTalk/results/13_K_10_S.mp4\n",
            "\u001b[0;33mGuessed Channel Layout for Input Stream #0.0 : stereo\n",
            "\u001b[0mresult is save to /content/drive/MyDrive/Lip-Sync/MuseTalk/results/13_K_10_S.mp4\n",
            "video in 25.0 FPS, audio idx in 50FPS\n",
            "extracting landmarks...time consuming\n",
            "reading images...\n",
            "100% 777/777 [00:32<00:00, 24.06it/s]\n",
            "get key_landmark and face bounding boxes with the default value\n",
            "100% 777/777 [05:47<00:00,  2.24it/s]\n",
            "********************************************bbox_shift parameter adjustment**********************************************************\n",
            "Total frame:「777」 Manually adjust range : [ -8~7 ] , the current value: 0\n",
            "*************************************************************************************************************************************\n",
            "start inference\n",
            "100% 127/127 [03:08<00:00,  1.48s/it]\n",
            "pad talking image to original video\n",
            "100% 1012/1012 [03:43<00:00,  4.52it/s]\n",
            "ffmpeg -y -v warning -r 25.0 -f image2 -i /content/drive/MyDrive/Lip-Sync/MuseTalk/results/13_K_96_E/%08d.png -vcodec libx264 -vf format=rgb24,scale=out_color_matrix=bt709,format=yuv420p -crf 18 temp.mp4\n",
            "ffmpeg -y -v warning -i /content/drive/MyDrive/Lip-Sync/Resources/96_E.wav -i temp.mp4 /content/drive/MyDrive/Lip-Sync/MuseTalk/results/13_K_96_E.mp4\n",
            "\u001b[0;33mGuessed Channel Layout for Input Stream #0.0 : stereo\n",
            "\u001b[0mresult is save to /content/drive/MyDrive/Lip-Sync/MuseTalk/results/13_K_96_E.mp4\n",
            "video in 25.0 FPS, audio idx in 50FPS\n",
            "extracting landmarks...time consuming\n",
            "reading images...\n",
            "100% 777/777 [00:29<00:00, 26.57it/s]\n",
            "get key_landmark and face bounding boxes with the default value\n",
            "100% 777/777 [05:57<00:00,  2.18it/s]\n",
            "********************************************bbox_shift parameter adjustment**********************************************************\n",
            "Total frame:「777」 Manually adjust range : [ -8~7 ] , the current value: 0\n",
            "*************************************************************************************************************************************\n",
            "start inference\n",
            "100% 174/174 [04:23<00:00,  1.51s/it]\n",
            "pad talking image to original video\n",
            "100% 1385/1385 [05:02<00:00,  4.58it/s]\n",
            "ffmpeg -y -v warning -r 25.0 -f image2 -i /content/drive/MyDrive/Lip-Sync/MuseTalk/results/13_K_96_A/%08d.png -vcodec libx264 -vf format=rgb24,scale=out_color_matrix=bt709,format=yuv420p -crf 18 temp.mp4\n",
            "ffmpeg -y -v warning -i /content/drive/MyDrive/Lip-Sync/Resources/96_A.wav -i temp.mp4 /content/drive/MyDrive/Lip-Sync/MuseTalk/results/13_K_96_A.mp4\n",
            "\u001b[0;33mGuessed Channel Layout for Input Stream #0.0 : stereo\n",
            "\u001b[0mresult is save to /content/drive/MyDrive/Lip-Sync/MuseTalk/results/13_K_96_A.mp4\n",
            "video in 25.0 FPS, audio idx in 50FPS\n",
            "extracting landmarks...time consuming\n",
            "reading images...\n",
            "100% 777/777 [00:28<00:00, 27.23it/s]\n",
            "get key_landmark and face bounding boxes with the default value\n",
            "100% 777/777 [05:57<00:00,  2.17it/s]\n",
            "********************************************bbox_shift parameter adjustment**********************************************************\n",
            "Total frame:「777」 Manually adjust range : [ -8~7 ] , the current value: 0\n",
            "*************************************************************************************************************************************\n",
            "start inference\n",
            "100% 134/134 [03:28<00:00,  1.55s/it]\n",
            "pad talking image to original video\n",
            " 83% 881/1067 [03:15<00:48,  3.82it/s]"
          ]
        }
      ]
    },
    {
      "cell_type": "code",
      "source": [
        "!python -m scripts.inference --inference_config configs/inference/test.yaml"
      ],
      "metadata": {
        "colab": {
          "base_uri": "https://localhost:8080/"
        },
        "id": "xo_Z7K7ID6iY",
        "outputId": "7184f9a7-b4ee-4dbe-fee2-8a9bf07f49e0"
      },
      "execution_count": null,
      "outputs": [
        {
          "output_type": "stream",
          "name": "stdout",
          "text": [
            "add ffmpeg to path\n",
            "Loads checkpoint by local backend from path: /content/drive/MyDrive/Lip-Sync/MuseTalk/musetalk/models/dwpose/dw-ll_ucoco_384.pth\n",
            "{'task_0': {'video_path': '/content/drive/MyDrive/Lip-Sync/Resources/Video/13_K.mp4', 'audio_path': '/content/drive/MyDrive/Lip-Sync/Resources/10_S.wav'}, 'task_1': {'video_path': '/content/drive/MyDrive/Lip-Sync/Resources/Video/13_K.mp4', 'audio_path': '/content/drive/MyDrive/Lip-Sync/Resources/96_E.wav'}}\n",
            "/content/drive/MyDrive/Lip-Sync/MuseTalk/musetalk/whisper/whisper/transcribe.py:79: UserWarning: FP16 is not supported on CPU; using FP32 instead\n",
            "  warnings.warn(\"FP16 is not supported on CPU; using FP32 instead\")\n",
            "video in 25.0 FPS, audio idx in 50FPS\n",
            "extracting landmarks...time consuming\n",
            "reading images...\n",
            "100% 777/777 [00:40<00:00, 19.16it/s]\n",
            "get key_landmark and face bounding boxes with the default value\n",
            "  1% 8/777 [05:30<8:49:52, 41.34s/it]\n",
            "Traceback (most recent call last):\n",
            "  File \"/usr/lib/python3.10/runpy.py\", line 196, in _run_module_as_main\n",
            "    return _run_code(code, main_globals, None,\n",
            "  File \"/usr/lib/python3.10/runpy.py\", line 86, in _run_code\n",
            "    exec(code, run_globals)\n",
            "  File \"/content/drive/MyDrive/Lip-Sync/MuseTalk/scripts/inference.py\", line 161, in <module>\n",
            "    main(args)\n",
            "  File \"/usr/local/lib/python3.10/dist-packages/torch/utils/_contextlib.py\", line 115, in decorate_context\n",
            "    return func(*args, **kwargs)\n",
            "  File \"/content/drive/MyDrive/Lip-Sync/MuseTalk/scripts/inference.py\", line 79, in main\n",
            "    coord_list, frame_list = get_landmark_and_bbox(input_img_list, bbox_shift)\n",
            "  File \"/content/drive/MyDrive/Lip-Sync/MuseTalk/musetalk/utils/preprocessing.py\", line 104, in get_landmark_and_bbox\n",
            "    bbox = fa.get_detections_for_batch(np.asarray(fb))\n",
            "  File \"/content/drive/MyDrive/Lip-Sync/MuseTalk/musetalk/utils/face_detection/api.py\", line 73, in get_detections_for_batch\n",
            "    detected_faces = self.face_detector.detect_from_batch(images.copy())\n",
            "  File \"/content/drive/MyDrive/Lip-Sync/MuseTalk/musetalk/utils/face_detection/detection/sfd/sfd_detector.py\", line 42, in detect_from_batch\n",
            "    bboxlists = batch_detect(self.face_detector, images, device=self.device)\n",
            "  File \"/content/drive/MyDrive/Lip-Sync/MuseTalk/musetalk/utils/face_detection/detection/sfd/detect.py\", line 68, in batch_detect\n",
            "    olist = net(imgs)\n",
            "  File \"/usr/local/lib/python3.10/dist-packages/torch/nn/modules/module.py\", line 1501, in _call_impl\n",
            "    return forward_call(*args, **kwargs)\n",
            "  File \"/content/drive/MyDrive/Lip-Sync/MuseTalk/musetalk/utils/face_detection/detection/sfd/net_s3fd.py\", line 72, in forward\n",
            "    h = F.relu(self.conv1_2(h))\n",
            "  File \"/usr/local/lib/python3.10/dist-packages/torch/nn/modules/module.py\", line 1501, in _call_impl\n",
            "    return forward_call(*args, **kwargs)\n",
            "  File \"/usr/local/lib/python3.10/dist-packages/torch/nn/modules/conv.py\", line 463, in forward\n",
            "    return self._conv_forward(input, self.weight, self.bias)\n",
            "  File \"/usr/local/lib/python3.10/dist-packages/torch/nn/modules/conv.py\", line 459, in _conv_forward\n",
            "    return F.conv2d(input, weight, bias, self.stride,\n",
            "KeyboardInterrupt\n",
            "^C\n"
          ]
        }
      ]
    },
    {
      "cell_type": "markdown",
      "source": [
        "## Real-time Inference"
      ],
      "metadata": {
        "id": "AAUIiUvAOj6D"
      }
    },
    {
      "cell_type": "code",
      "source": [
        "cd /content/drive/MyDrive/Lip-Sync/MuseTalk"
      ],
      "metadata": {
        "colab": {
          "base_uri": "https://localhost:8080/"
        },
        "id": "FvUH1ZwNaewU",
        "outputId": "b78084bc-7b96-4ae1-a7b3-3a4446aac224"
      },
      "execution_count": null,
      "outputs": [
        {
          "output_type": "stream",
          "name": "stdout",
          "text": [
            "/content/drive/.shortcut-targets-by-id/1GyP__si2oQveB7Ehfyjwabph3DUUc47g/Lip-Sync/MuseTalk\n"
          ]
        }
      ]
    },
    {
      "cell_type": "code",
      "source": [
        "!python -m scripts.realtime_inference --inference_config configs/inference/realtime.yaml --batch_size 4"
      ],
      "metadata": {
        "id": "MgHl38_HtW22",
        "colab": {
          "base_uri": "https://localhost:8080/"
        },
        "outputId": "05a9a3eb-1ee0-40bf-f1e6-3385ddcb11e0"
      },
      "execution_count": null,
      "outputs": [
        {
          "output_type": "stream",
          "name": "stdout",
          "text": [
            "add ffmpeg to path\n",
            "Loads checkpoint by local backend from path: /content/drive/MyDrive/Lip-Sync/MuseTalk/musetalk/models/dwpose/dw-ll_ucoco_384.pth\n",
            "cuda start\n",
            "/usr/local/lib/python3.10/dist-packages/torch/utils/_contextlib.py:125: UserWarning: Decorating classes is deprecated and will be disabled in future versions. You should only decorate functions or methods. To preserve the current behavior of class decoration, you can directly decorate the `__init__` method and nothing else.\n",
            "  warnings.warn(\"Decorating classes is deprecated and will be disabled in \"\n",
            "{'avator_1': {'preparation': True, 'bbox_shift': 5, 'video_path': '/content/drive/MyDrive/Lip-Sync/Resources/Video/13_K.mp4', 'audio_clips': {'audio_0': '/content/drive/MyDrive/Lip-Sync/Resources/96_E.wav', 'audio_1': '/content/drive/MyDrive/Lip-Sync/Resources/96_A.wav'}}}\n",
            "*********************************\n",
            "  creating avator: avator_1\n",
            "*********************************\n",
            "preparing data materials ... ...\n",
            "extracting landmarks...\n",
            "reading images...\n",
            "0it [00:00, ?it/s]\n",
            "get key_landmark and face bounding boxes with the bbox_shift: 5\n",
            "0it [00:00, ?it/s]\n",
            "********************************************bbox_shift parameter adjustment**********************************************************\n",
            "Traceback (most recent call last):\n",
            "  File \"/usr/lib/python3.10/runpy.py\", line 196, in _run_module_as_main\n",
            "    return _run_code(code, main_globals, None,\n",
            "  File \"/usr/lib/python3.10/runpy.py\", line 86, in _run_code\n",
            "    exec(code, run_globals)\n",
            "  File \"/content/drive/.shortcut-targets-by-id/1GyP__si2oQveB7Ehfyjwabph3DUUc47g/Lip-Sync/MuseTalk/scripts/realtime_inference.py\", line 322, in <module>\n",
            "    avatar = Avatar(\n",
            "  File \"/usr/local/lib/python3.10/dist-packages/torch/utils/_contextlib.py\", line 115, in decorate_context\n",
            "    return func(*args, **kwargs)\n",
            "  File \"/usr/local/lib/python3.10/dist-packages/torch/utils/_contextlib.py\", line 129, in <lambda>\n",
            "    func = cast(F, lambda *args, **kwargs: orig_func(*args, **kwargs))\n",
            "  File \"/content/drive/.shortcut-targets-by-id/1GyP__si2oQveB7Ehfyjwabph3DUUc47g/Lip-Sync/MuseTalk/scripts/realtime_inference.py\", line 72, in __init__\n",
            "    self.init()\n",
            "  File \"/content/drive/.shortcut-targets-by-id/1GyP__si2oQveB7Ehfyjwabph3DUUc47g/Lip-Sync/MuseTalk/scripts/realtime_inference.py\", line 102, in init\n",
            "    self.prepare_material()\n",
            "  File \"/content/drive/.shortcut-targets-by-id/1GyP__si2oQveB7Ehfyjwabph3DUUc47g/Lip-Sync/MuseTalk/scripts/realtime_inference.py\", line 152, in prepare_material\n",
            "    coord_list, frame_list = get_landmark_and_bbox(input_img_list, self.bbox_shift)\n",
            "  File \"/content/drive/.shortcut-targets-by-id/1GyP__si2oQveB7Ehfyjwabph3DUUc47g/Lip-Sync/MuseTalk/musetalk/utils/preprocessing.py\", line 134, in get_landmark_and_bbox\n",
            "    print(f\"Total frame:「{len(frames)}」 Manually adjust range : [ -{int(sum(average_range_minus) / len(average_range_minus))}~{int(sum(average_range_plus) / len(average_range_plus))} ] , the current value: {upperbondrange}\")\n",
            "ZeroDivisionError: division by zero\n"
          ]
        }
      ]
    },
    {
      "cell_type": "code",
      "source": [],
      "metadata": {
        "id": "v8mtmBIG6fyg"
      },
      "execution_count": null,
      "outputs": []
    },
    {
      "cell_type": "code",
      "source": [],
      "metadata": {
        "id": "ZZPILdZn6fwn"
      },
      "execution_count": null,
      "outputs": []
    },
    {
      "cell_type": "code",
      "source": [],
      "metadata": {
        "id": "-yGIHZJv62HM"
      },
      "execution_count": null,
      "outputs": []
    },
    {
      "cell_type": "code",
      "source": [],
      "metadata": {
        "id": "cWF1lng8EKCg"
      },
      "execution_count": null,
      "outputs": []
    },
    {
      "cell_type": "code",
      "source": [],
      "metadata": {
        "id": "UTBqJZmdpZhJ"
      },
      "execution_count": null,
      "outputs": []
    },
    {
      "cell_type": "code",
      "source": [],
      "metadata": {
        "id": "RMiguO9epZk1"
      },
      "execution_count": null,
      "outputs": []
    },
    {
      "cell_type": "code",
      "source": [],
      "metadata": {
        "id": "blZ4D7DkqN05"
      },
      "execution_count": null,
      "outputs": []
    },
    {
      "cell_type": "code",
      "source": [],
      "metadata": {
        "id": "uoJelO8OqNxZ"
      },
      "execution_count": null,
      "outputs": []
    },
    {
      "cell_type": "code",
      "source": [],
      "metadata": {
        "id": "g2AAqDPzqNvQ"
      },
      "execution_count": null,
      "outputs": []
    },
    {
      "cell_type": "code",
      "source": [],
      "metadata": {
        "id": "Bpqhx8gfpZxO"
      },
      "execution_count": null,
      "outputs": []
    },
    {
      "cell_type": "code",
      "source": [],
      "metadata": {
        "id": "sz4ukDTG3wle"
      },
      "execution_count": null,
      "outputs": []
    }
  ]
}